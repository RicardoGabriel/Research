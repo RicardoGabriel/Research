{
 "cells": [
  {
   "cell_type": "markdown",
   "metadata": {},
   "source": [
    "# ISLR Chapter 3"
   ]
  },
  {
   "cell_type": "markdown",
   "metadata": {},
   "source": [
    "## Exercise 1\n",
    "\n",
    "**Describe the null hypotheses to which the p-values given in Table 3.4 correspond. Explain what conclusions you can draw based on these p-values. Your explanation should be phrased in terms of sales, TV, radio, and newspaper, rather than in terms of the coefficients of the linear model.**"
   ]
  },
  {
   "cell_type": "markdown",
   "metadata": {},
   "source": [
    "![title](Table.png)"
   ]
  },
  {
   "cell_type": "markdown",
   "metadata": {},
   "source": [
    "**a) Describe the null hypothesis**\n",
    "\n",
    "In Table 3.4, the null hypothesis for \"TV\" is that in the presence of radio ads and newspaper ads, TV ads have no effect on sales. Similarly, the null hypothesis for \"radio\" is that in the presence of TV and newspaper ads, radio ads have no effect on sales.\n",
    "\n",
    "**b) Explain your conclusions based on the p-values in Table 3.4**\n",
    "\n",
    "On the one hand, the low p-values of TV and radio allow us to reject the null hypothesis for TV and radio. Hence, we believe that TV (radio) ads have an effect on sales in the presence of radio (TV) and newspaper ads.\n",
    "\n",
    "On the other hand, the high p-value of newspaper does not allow us to reject the null-hypothesis. That is, possible effects of newspaper ads are not large enough to stand out from the estimation errors. \n",
    "\n",
    "Here, remember! An insignificant hypothesis test-result is never informative about whether the null is true. We do not have an error-control for falsely \"accepting\" the null-hypothesis. We only have an error-control (by the significance level) for falsely rejecting the null-hypothesis."
   ]
  },
  {
   "cell_type": "markdown",
   "metadata": {},
   "source": [
    "## Exercise 2\n",
    "\n",
    "**Carefully explain the main difference between the KNN classifier and KNN regression methods.**"
   ]
  },
  {
   "cell_type": "markdown",
   "metadata": {},
   "source": [
    "KNN classifier and KNN regression methods are closely related in formula. However, the final result of KNN classifier is the classification output for Y (qualitative), where as the output for a KNN regression predicts the quantitative value for f(X)."
   ]
  },
  {
   "cell_type": "markdown",
   "metadata": {},
   "source": [
    "## Exercise 3\n",
    "\n",
    "**Suppose we have a data set with five predictors:**\n",
    "\n",
    "$X_1 =GPA$\n",
    "\n",
    "$X_2 = IQ$\n",
    "\n",
    "$X_3 = Gender$ (1 for Female and 0 for Male)\n",
    "\n",
    "$X_4 =$ Interaction between GPA and IQ\n",
    "\n",
    "$X_5 =$ Interaction between GPA and Gender\n",
    "\n",
    "**The response variable (in thousands of dollars) is defined as:**\n",
    "\n",
    "$Y =$ starting salary after graduation\n",
    "\n",
    "**Suppose we use least squares to fit the model, and get $\\hat{\\beta_0} = 50$, $\\hat{\\beta_1} = 20$, $\\hat{\\beta_2} = 0.07$, $\\hat{\\beta_3} = 35$, $\\hat{\\beta_4} = 0.01$, $\\hat{\\beta_5} = −10$.**\n",
    "\n",
    "**Which is equivalent to write:**\n",
    "\n",
    "**$E[Y|X] = 50 + 20*GPA + 0.07*IQ + 35*Gender + 0.01*GPA*IQ - 10*GPA*Gender$**"
   ]
  },
  {
   "cell_type": "markdown",
   "metadata": {},
   "source": [
    "#### 3. a) Which answer is correct, and why?\n",
    "\n",
    "    i) For a fixed value of IQ and GPA, males earn more on average than females.\n",
    "    ii) For a fixed value of IQ and GPA, females earn more on average than males.\n",
    "    iii) For a fixed value of IQ and GPA, males earn more on average than females provided that the GPA is high enough.\n",
    "    iv) For a fixed value of IQ and GPA, females earn more on average than males provided that the GPA is high enough."
   ]
  },
  {
   "cell_type": "markdown",
   "metadata": {},
   "source": [
    "<br/>\n",
    "To answer this question, let us start by taking a derivative of $Y$ wrt $Gender$ (assuming continuity):\n",
    "\n",
    "\n",
    "<br/>\n",
    "<br/>\n",
    "\\begin{equation}\n",
    "\\dfrac{\\partial E[Y|X]}{\\partial Gender} = 35 -10*GPA \\Rightarrow \\dfrac{\\partial E[Y|X]}{\\partial Gender} > 0 \\iff GPA > 3.5\n",
    "\\end{equation}\n",
    "<br/>\n",
    "For a fixed value of $IQ$ and $GPA$, males ($Gender=0$) earn more on average than females provided that the GPA is higher than 3.5. Thus, iii) is the correct answer."
   ]
  },
  {
   "cell_type": "markdown",
   "metadata": {},
   "source": [
    "#### 3. b) Predict the salary of a female with IQ of 110 and a GPA of 4.0."
   ]
  },
  {
   "cell_type": "code",
   "execution_count": 1,
   "metadata": {},
   "outputs": [
    {
     "data": {
      "text/html": [
       "137.1"
      ],
      "text/latex": [
       "137.1"
      ],
      "text/markdown": [
       "137.1"
      ],
      "text/plain": [
       "[1] 137.1"
      ]
     },
     "metadata": {},
     "output_type": "display_data"
    }
   ],
   "source": [
    "Y_hat <- 50 + 20*4 + 0.07*110 + 35*1 + 0.01*4*110 - 10*4\n",
    "Y_hat"
   ]
  },
  {
   "cell_type": "markdown",
   "metadata": {},
   "source": [
    "#### 3.c) True or false: Since the coefficient for the $GPA*IQ$ interaction term is very small, there is very little evidence of an interaction effect. Justify your answer."
   ]
  },
  {
   "cell_type": "markdown",
   "metadata": {},
   "source": [
    "False. We must examine the p-value of the regression coefficient to determine if the interaction term is statistically significant or not."
   ]
  },
  {
   "cell_type": "markdown",
   "metadata": {},
   "source": [
    "## Exercise 8\n",
    "\n",
    "**This question involves the use of simple linear regression on the Auto data set.**"
   ]
  },
  {
   "cell_type": "markdown",
   "metadata": {},
   "source": [
    "#### 8.a) Use the lm() function to perform a simple linear regression with mpg as the response and horsepower as the predictor. Use the summary() function to print the results. Comment on the output."
   ]
  },
  {
   "cell_type": "code",
   "execution_count": 14,
   "metadata": {},
   "outputs": [
    {
     "data": {
      "text/plain": [
       "\n",
       "Call:\n",
       "lm(formula = mpg ~ horsepower, data = Auto)\n",
       "\n",
       "Residuals:\n",
       "   Min     1Q Median     3Q    Max \n",
       "-9.050 -2.183  0.000  1.778 14.533 \n",
       "\n",
       "Coefficients:\n",
       "                Estimate Std. Error t value Pr(>|t|)    \n",
       "(Intercept)    2.900e+01  1.814e+00  15.989  < 2e-16 ***\n",
       "horsepower100 -9.406e+00  2.063e+00  -4.559 7.48e-06 ***\n",
       "horsepower102 -9.000e+00  4.443e+00  -2.026 0.043663 *  \n",
       "horsepower103 -8.700e+00  4.443e+00  -1.958 0.051117 .  \n",
       "horsepower105 -8.500e+00  2.159e+00  -3.937 0.000102 ***\n",
       "horsepower107 -8.000e+00  4.443e+00  -1.801 0.072745 .  \n",
       "horsepower108 -1.000e+01  4.443e+00  -2.251 0.025110 *  \n",
       "horsepower110 -9.167e+00  2.050e+00  -4.471 1.10e-05 ***\n",
       "horsepower112 -9.333e+00  2.962e+00  -3.151 0.001788 ** \n",
       "horsepower113 -3.000e+00  4.443e+00  -0.675 0.500024    \n",
       "horsepower115 -4.260e+00  2.565e+00  -1.661 0.097785 .  \n",
       "horsepower116 -3.600e+00  4.443e+00  -0.810 0.418396    \n",
       "horsepower120 -1.043e+01  2.721e+00  -3.832 0.000155 ***\n",
       "horsepower122 -9.000e+00  4.443e+00  -2.026 0.043663 *  \n",
       "horsepower125 -9.267e+00  2.962e+00  -3.129 0.001927 ** \n",
       "horsepower129 -1.370e+01  3.393e+00  -4.038 6.85e-05 ***\n",
       "horsepower130 -1.380e+01  2.565e+00  -5.380 1.49e-07 ***\n",
       "horsepower132  3.700e+00  4.443e+00   0.833 0.405601    \n",
       "horsepower133 -1.280e+01  4.443e+00  -2.881 0.004246 ** \n",
       "horsepower135 -1.080e+01  4.443e+00  -2.431 0.015639 *  \n",
       "horsepower137 -1.500e+01  4.443e+00  -3.376 0.000830 ***\n",
       "horsepower138 -1.250e+01  4.443e+00  -2.814 0.005219 ** \n",
       "horsepower139 -9.850e+00  3.393e+00  -2.903 0.003969 ** \n",
       "horsepower140 -1.266e+01  2.375e+00  -5.330 1.92e-07 ***\n",
       "horsepower142 -1.350e+01  4.443e+00  -3.039 0.002583 ** \n",
       "horsepower145 -1.354e+01  2.375e+00  -5.703 2.80e-08 ***\n",
       "horsepower148 -1.500e+01  4.443e+00  -3.376 0.000830 ***\n",
       "horsepower149 -1.300e+01  4.443e+00  -2.926 0.003692 ** \n",
       "horsepower150 -1.430e+01  2.009e+00  -7.115 8.14e-12 ***\n",
       "horsepower152 -1.450e+01  4.443e+00  -3.264 0.001225 ** \n",
       "horsepower153 -1.500e+01  3.393e+00  -4.421 1.37e-05 ***\n",
       "horsepower155 -1.405e+01  3.393e+00  -4.141 4.49e-05 ***\n",
       "horsepower158 -1.600e+01  4.443e+00  -3.601 0.000370 ***\n",
       "horsepower160 -1.600e+01  3.393e+00  -4.715 3.69e-06 ***\n",
       "horsepower165 -1.408e+01  2.721e+00  -5.173 4.19e-07 ***\n",
       "horsepower167 -1.700e+01  4.443e+00  -3.826 0.000158 ***\n",
       "horsepower170 -1.450e+01  2.565e+00  -5.653 3.64e-08 ***\n",
       "horsepower175 -1.560e+01  2.565e+00  -6.082 3.57e-09 ***\n",
       "horsepower180 -1.550e+01  2.565e+00  -6.043 4.44e-09 ***\n",
       "horsepower190 -1.450e+01  2.962e+00  -4.896 1.60e-06 ***\n",
       "horsepower193 -2.000e+01  4.443e+00  -4.502 9.62e-06 ***\n",
       "horsepower198 -1.550e+01  3.393e+00  -4.568 7.17e-06 ***\n",
       "horsepower200 -1.900e+01  4.443e+00  -4.277 2.55e-05 ***\n",
       "horsepower208 -1.800e+01  4.443e+00  -4.052 6.47e-05 ***\n",
       "horsepower210 -1.800e+01  4.443e+00  -4.052 6.47e-05 ***\n",
       "horsepower215 -1.667e+01  2.962e+00  -5.627 4.17e-08 ***\n",
       "horsepower220 -1.500e+01  4.443e+00  -3.376 0.000830 ***\n",
       "horsepower225 -1.567e+01  2.962e+00  -5.290 2.35e-07 ***\n",
       "horsepower230 -1.300e+01  4.443e+00  -2.926 0.003692 ** \n",
       "horsepower46  -3.000e+00  3.393e+00  -0.884 0.377330    \n",
       "horsepower48   1.460e+01  2.962e+00   4.929 1.36e-06 ***\n",
       "horsepower49  -6.342e-15  4.443e+00   0.000 1.000000    \n",
       "horsepower52   5.200e+00  2.721e+00   1.911 0.056904 .  \n",
       "horsepower53   4.000e+00  3.393e+00   1.179 0.239389    \n",
       "horsepower54  -6.000e+00  4.443e+00  -1.351 0.177856    \n",
       "horsepower58   8.550e+00  3.393e+00   2.520 0.012258 *  \n",
       "horsepower60   3.160e+00  2.565e+00   1.232 0.218917    \n",
       "horsepower61   3.000e+00  4.443e+00   0.675 0.500024    \n",
       "horsepower62   4.750e+00  3.393e+00   1.400 0.162577    \n",
       "horsepower63   5.400e+00  2.962e+00   1.823 0.069257 .  \n",
       "horsepower64   1.000e+01  4.443e+00   2.251 0.025110 *  \n",
       "horsepower65   6.480e+00  2.221e+00   2.917 0.003797 ** \n",
       "horsepower66   7.100e+00  4.443e+00   1.598 0.111059    \n",
       "horsepower67   4.592e+00  2.159e+00   2.127 0.034230 *  \n",
       "horsepower68   3.183e+00  2.456e+00   1.296 0.195877    \n",
       "horsepower69   3.767e+00  2.962e+00   1.272 0.204440    \n",
       "horsepower70   3.475e+00  2.159e+00   1.610 0.108503    \n",
       "horsepower71   2.000e-02  2.565e+00   0.008 0.993784    \n",
       "horsepower72  -7.017e+00  2.456e+00  -2.857 0.004570 ** \n",
       "horsepower74   4.533e+00  2.962e+00   1.531 0.126913    \n",
       "horsepower75   3.571e-02  2.113e+00   0.017 0.986525    \n",
       "horsepower76   2.050e+00  2.721e+00   0.754 0.451728    \n",
       "horsepower77  -3.600e+00  4.443e+00  -0.810 0.418396    \n",
       "horsepower78  -2.200e+00  2.456e+00  -0.896 0.371051    \n",
       "horsepower79  -2.000e+00  3.393e+00  -0.589 0.556021    \n",
       "horsepower80  -4.000e-01  2.375e+00  -0.168 0.866350    \n",
       "horsepower81  -4.500e+00  3.393e+00  -1.326 0.185776    \n",
       "horsepower82   2.000e+00  4.443e+00   0.450 0.652906    \n",
       "horsepower83  -8.750e-01  2.721e+00  -0.322 0.747962    \n",
       "horsepower84   1.133e+00  2.456e+00   0.461 0.644777    \n",
       "horsepower85  -5.533e+00  2.262e+00  -2.446 0.015010 *  \n",
       "horsepower86  -4.800e+00  2.565e+00  -1.871 0.062261 .  \n",
       "horsepower87  -6.000e+00  3.393e+00  -1.768 0.078025 .  \n",
       "horsepower88  -3.921e+00  2.038e+00  -1.924 0.055349 .  \n",
       "horsepower89  -3.500e+00  4.443e+00  -0.788 0.431426    \n",
       "horsepower90  -4.645e+00  2.028e+00  -2.291 0.022671 *  \n",
       "horsepower91  -9.000e+00  4.443e+00  -2.026 0.043663 *  \n",
       "horsepower92  -1.367e+00  2.456e+00  -0.557 0.578277    \n",
       "horsepower93  -3.000e+00  4.443e+00  -0.675 0.500024    \n",
       "horsepower94  -7.000e+00  4.443e+00  -1.576 0.116159    \n",
       "horsepower95  -6.886e+00  2.113e+00  -3.259 0.001246 ** \n",
       "horsepower96  -1.833e+00  2.962e+00  -0.619 0.536388    \n",
       "horsepower97  -6.878e+00  2.262e+00  -3.040 0.002569 ** \n",
       "horsepower98  -8.750e+00  3.393e+00  -2.579 0.010389 *  \n",
       "---\n",
       "Signif. codes:  0 '***' 0.001 '**' 0.01 '*' 0.05 '.' 0.1 ' ' 1\n",
       "\n",
       "Residual standard error: 4.056 on 303 degrees of freedom\n",
       "Multiple R-squared:  0.7945,\tAdjusted R-squared:  0.7314 \n",
       "F-statistic:  12.6 on 93 and 303 DF,  p-value: < 2.2e-16\n"
      ]
     },
     "metadata": {},
     "output_type": "display_data"
    }
   ],
   "source": [
    "# Store data into dataframe Auto\n",
    "Auto <- read.csv(\"Auto.csv\", header=T, na.strings=\"?\")\n",
    "\n",
    "# Remove missing values from the data\n",
    "Auto = na.omit(Auto)\n",
    "\n",
    "# Perform linear regression\n",
    "fit.lm <- lm(mpg ~ horsepower, data=Auto)\n",
    "\n",
    "# Use summary function to print the results\n",
    "summary(fit.lm)"
   ]
  },
  {
   "cell_type": "markdown",
   "metadata": {},
   "source": [
    "#### i) Is there a relationship between the predictor and the response?\n",
    "\n",
    "Yes, there is. By looking at the estimated coefficient for horsepower ($-0.157845$) and its p-value ($<2e-16$)."
   ]
  },
  {
   "cell_type": "markdown",
   "metadata": {},
   "source": [
    "#### ii) How strong is the relationship between the predictor and the response?\n",
    "\n",
    "The relationship is strong as indicated by the very small p-value ($<2e-16$)."
   ]
  },
  {
   "cell_type": "markdown",
   "metadata": {},
   "source": [
    "#### iii) Is the relationship between the predictor and the response positive or negative?\n",
    "\n",
    "The relationship between mpg and horsepower is negative as indicated by the coefficient ($-0.157845$). The linear regression predicts that, on average, the more horsepower an automobile has the less mpg fuel efficiency the automobile will have."
   ]
  },
  {
   "cell_type": "markdown",
   "metadata": {},
   "source": [
    "#### iv) What is the predicted mpg associated with a horsepower of 98? What are the associated 95% confidence and prediction intervals?"
   ]
  },
  {
   "cell_type": "code",
   "execution_count": 7,
   "metadata": {},
   "outputs": [
    {
     "name": "stdout",
     "output_type": "stream",
     "text": [
      "       fit      lwr      upr\n",
      "1 24.46708 23.97308 24.96108\n",
      "       fit     lwr      upr\n",
      "1 24.46708 14.8094 34.12476\n"
     ]
    }
   ],
   "source": [
    "# Horsepower of 98\n",
    "new <- data.frame(horsepower = 98)\n",
    "\n",
    "# confidence interval\n",
    "print(predict(fit.lm, new, interval = \"confidence\"))\n",
    "\n",
    "#prediction interval\n",
    "print(predict(fit.lm, new, interval = \"prediction\"))"
   ]
  },
  {
   "cell_type": "markdown",
   "metadata": {},
   "source": [
    "#### 8. b) Plot the response and the predictor. Use the abline() function to display the least squares regression line."
   ]
  },
  {
   "cell_type": "code",
   "execution_count": 8,
   "metadata": {},
   "outputs": [
    {
     "data": {
      "image/png": "[encoded data removed]",
      "text/plain": [
       "plot without title"
      ]
     },
     "metadata": {
      "image/png": {
       "height": 420,
       "width": 420
      }
     },
     "output_type": "display_data"
    }
   ],
   "source": [
    "plot(Auto$horsepower, Auto$mpg)\n",
    "abline(fit.lm, col=\"blue\")"
   ]
  },
  {
   "cell_type": "markdown",
   "metadata": {},
   "source": [
    "#### 8. c) Use the plot() function to produce diagnostic plots of the least squares regression fit. Comment on any problems you see with the fit."
   ]
  },
  {
   "cell_type": "code",
   "execution_count": 27,
   "metadata": {},
   "outputs": [
    {
     "data": {
      "image/png": "[encoded data removed]",
      "text/plain": [
       "Plot with title \"\""
      ]
     },
     "metadata": {
      "image/png": {
       "height": 420,
       "width": 420
      }
     },
     "output_type": "display_data"
    }
   ],
   "source": [
    "par(mfrow=c(2,2))\n",
    "plot(fit.lm, col='blue')"
   ]
  },
  {
   "cell_type": "markdown",
   "metadata": {},
   "source": [
    "Based on the residuals plots, there is some evidence of non-linearity and existance of outliers."
   ]
  },
  {
   "cell_type": "markdown",
   "metadata": {},
   "source": [
    "## Exercise 9\n",
    "**This question involves the use of multiple linear regression on the Auto data set.**"
   ]
  },
  {
   "cell_type": "markdown",
   "metadata": {},
   "source": [
    "#### 9. a) Produce a scatterplot matrix which includes all of the variables in the data set."
   ]
  },
  {
   "cell_type": "code",
   "execution_count": 28,
   "metadata": {},
   "outputs": [
    {
     "data": {
      "image/png": "[encoded data removed]",
      "text/plain": [
       "plot without title"
      ]
     },
     "metadata": {
      "image/png": {
       "height": 420,
       "width": 420
      }
     },
     "output_type": "display_data"
    }
   ],
   "source": [
    "# Store data into dataframe Auto\n",
    "Auto <- read.csv(\"Auto.csv\", header=T, na.strings=\"?\")\n",
    "\n",
    "# Remove missing values from the data\n",
    "Auto = na.omit(Auto)\n",
    "\n",
    "# Produce scatterplot matrix\n",
    "pairs(Auto)"
   ]
  },
  {
   "cell_type": "markdown",
   "metadata": {},
   "source": [
    "#### 9 .b) Compute the matrix of correlations between the variables using the function cor(). You will need to exclude the name variable, which is qualitative."
   ]
  },
  {
   "cell_type": "code",
   "execution_count": 9,
   "metadata": {},
   "outputs": [
    {
     "name": "stdout",
     "output_type": "stream",
     "text": [
      "                    mpg  cylinders displacement horsepower     weight\n",
      "mpg           1.0000000 -0.7776175   -0.8051269 -0.7784268 -0.8322442\n",
      "cylinders    -0.7776175  1.0000000    0.9508233  0.8429834  0.8975273\n",
      "displacement -0.8051269  0.9508233    1.0000000  0.8972570  0.9329944\n",
      "horsepower   -0.7784268  0.8429834    0.8972570  1.0000000  0.8645377\n",
      "weight       -0.8322442  0.8975273    0.9329944  0.8645377  1.0000000\n",
      "acceleration  0.4233285 -0.5046834   -0.5438005 -0.6891955 -0.4168392\n",
      "year          0.5805410 -0.3456474   -0.3698552 -0.4163615 -0.3091199\n",
      "origin        0.5652088 -0.5689316   -0.6145351 -0.4551715 -0.5850054\n",
      "             acceleration       year     origin\n",
      "mpg             0.4233285  0.5805410  0.5652088\n",
      "cylinders      -0.5046834 -0.3456474 -0.5689316\n",
      "displacement   -0.5438005 -0.3698552 -0.6145351\n",
      "horsepower     -0.6891955 -0.4163615 -0.4551715\n",
      "weight         -0.4168392 -0.3091199 -0.5850054\n",
      "acceleration    1.0000000  0.2903161  0.2127458\n",
      "year            0.2903161  1.0000000  0.1815277\n",
      "origin          0.2127458  0.1815277  1.0000000\n"
     ]
    }
   ],
   "source": [
    "print(cor(subset(Auto, select=-name)))"
   ]
  },
  {
   "cell_type": "markdown",
   "metadata": {},
   "source": [
    "#### 9. c) Use the lm() function to perform a multiple linear regression with mpg as the response and all other variables except name as the predictors. Use the summary() function to print the results. Comment on the output."
   ]
  },
  {
   "cell_type": "code",
   "execution_count": 12,
   "metadata": {
    "scrolled": true
   },
   "outputs": [
    {
     "data": {
      "text/plain": [
       "\n",
       "Call:\n",
       "lm(formula = mpg ~ . - name, data = Auto)\n",
       "\n",
       "Residuals:\n",
       "    Min      1Q  Median      3Q     Max \n",
       "-9.5903 -2.1565 -0.1169  1.8690 13.0604 \n",
       "\n",
       "Coefficients:\n",
       "               Estimate Std. Error t value Pr(>|t|)    \n",
       "(Intercept)  -17.218435   4.644294  -3.707  0.00024 ***\n",
       "cylinders     -0.493376   0.323282  -1.526  0.12780    \n",
       "displacement   0.019896   0.007515   2.647  0.00844 ** \n",
       "horsepower    -0.016951   0.013787  -1.230  0.21963    \n",
       "weight        -0.006474   0.000652  -9.929  < 2e-16 ***\n",
       "acceleration   0.080576   0.098845   0.815  0.41548    \n",
       "year           0.750773   0.050973  14.729  < 2e-16 ***\n",
       "origin         1.426141   0.278136   5.127 4.67e-07 ***\n",
       "---\n",
       "Signif. codes:  0 '***' 0.001 '**' 0.01 '*' 0.05 '.' 0.1 ' ' 1\n",
       "\n",
       "Residual standard error: 3.328 on 384 degrees of freedom\n",
       "Multiple R-squared:  0.8215,\tAdjusted R-squared:  0.8182 \n",
       "F-statistic: 252.4 on 7 and 384 DF,  p-value: < 2.2e-16\n"
      ]
     },
     "metadata": {},
     "output_type": "display_data"
    }
   ],
   "source": [
    "# Perform multiplie linear regression\n",
    "fit.lm <- lm(mpg ~ .-name, data=Auto)\n",
    "\n",
    "# Print results\n",
    "summary(fit.lm)"
   ]
  },
  {
   "cell_type": "markdown",
   "metadata": {},
   "source": [
    "#### 9. c. i) Is there a relationship between the predictors and the response?\n",
    "\n",
    "Yes, there is a relatioship between the predictors and the response. By testing the null hypothesis of whether all the regression coefficients are zero, we can see that the F-statistic is big and its p-value is close to zero, indicating evidence against the null hypothesis."
   ]
  },
  {
   "cell_type": "markdown",
   "metadata": {},
   "source": [
    "#### 9. c. ii) Which predictors appear to have a statistically significant relationship to the response?\n",
    "\n",
    "Looking at the p-values associated with each predictor’s t-statistic, we see that displacement, weight, year, and origin have a statistically significant relationship, while cylinders, horsepower, and acceleration do not."
   ]
  },
  {
   "cell_type": "markdown",
   "metadata": {},
   "source": [
    "#### 9. c. iii) What does the coefficient for the year variable suggest?\n",
    "\n",
    "The regression coefficient for year suggests that one more year increases mpg, on average, $0.75$. In other words: on average, cars become more fuel efficient every year by $0.75$ mpg / year."
   ]
  },
  {
   "cell_type": "markdown",
   "metadata": {},
   "source": [
    "#### 9. d) Use the plot() function to produce diagnostic plots of the linear regression fit. Comment on any problems you see with the fit. Do the residual plots suggest any unusually large outliers? Does the leverage plot identify any observations with unusually high leverage?"
   ]
  },
  {
   "cell_type": "code",
   "execution_count": 31,
   "metadata": {},
   "outputs": [
    {
     "data": {
      "image/png": "[encoded data removed]",
      "text/plain": [
       "Plot with title \"\""
      ]
     },
     "metadata": {
      "image/png": {
       "height": 420,
       "width": 420
      }
     },
     "output_type": "display_data"
    }
   ],
   "source": [
    "par(mfrow=c(2,2))\n",
    "plot(fit.lm, col='blue')"
   ]
  },
  {
   "cell_type": "markdown",
   "metadata": {},
   "source": [
    "We can learn the following four main messages from the diagnostic plots:\n",
    "\n",
    "**First:** The residual plot (Residuals vs Fitted, top left) shows some systematic deviations of the residuals from 0. \n",
    "The reason is that we are imposing a straight line fit for a conditional mean function $E[Y|X]=f(X)$ which is non-linear. This results in a systematic underestimation of the true conditional mean function for large and small values of 'horsepower' and other variables. \n",
    "\n",
    "\n",
    "**Second:** The \"Residuals vs Leverage\" plot (bottom right) shows that there are some potential outliers that we can see when: standardized residuals are below -2  or above +2.\n",
    "\n",
    "**Third:** Furthermore, the \"Residuals vs Leverage\" plot shows also potentially problematic \"high-leverage\" points with leverage values heavily exceeding the rule-of-thumb threshold (p+ 1)/n=8/392=0.02. \n",
    "\n",
    "Hence, all points with simultaneously high-leverages and large absolute standardized residuals should be handled with care since these may distort the estimation. \n",
    "\n",
    "\n",
    "**Fourth:** The Normal-qq plot (top right) suggests non-normally distributed residuals - particularly the upper tail deviates from that of a normal distribution. \n"
   ]
  },
  {
   "cell_type": "markdown",
   "metadata": {},
   "source": [
    "#### 9. e) Use the $*$ and $:$ symbols to fit linear regression models with interaction effects. Do any interactions appear to be statistically significant?"
   ]
  },
  {
   "cell_type": "code",
   "execution_count": 13,
   "metadata": {},
   "outputs": [
    {
     "data": {
      "text/plain": [
       "\n",
       "Call:\n",
       "lm(formula = mpg ~ horsepower + cylinders + year + weight:displacement, \n",
       "    data = Auto)\n",
       "\n",
       "Residuals:\n",
       "    Min      1Q  Median      3Q     Max \n",
       "-9.1046 -2.8861 -0.2415  2.3967 15.3221 \n",
       "\n",
       "Coefficients:\n",
       "                      Estimate Std. Error t value Pr(>|t|)    \n",
       "(Intercept)         -1.343e+01  5.043e+00  -2.663  0.00807 ** \n",
       "horsepower          -3.914e-02  1.278e-02  -3.063  0.00234 ** \n",
       "cylinders           -1.358e+00  3.233e-01  -4.201 3.31e-05 ***\n",
       "year                 6.661e-01  6.019e-02  11.067  < 2e-16 ***\n",
       "weight:displacement -3.354e-06  1.352e-06  -2.480  0.01355 *  \n",
       "---\n",
       "Signif. codes:  0 '***' 0.001 '**' 0.01 '*' 0.05 '.' 0.1 ' ' 1\n",
       "\n",
       "Residual standard error: 3.985 on 387 degrees of freedom\n",
       "Multiple R-squared:  0.7419,\tAdjusted R-squared:  0.7393 \n",
       "F-statistic: 278.2 on 4 and 387 DF,  p-value: < 2.2e-16\n"
      ]
     },
     "metadata": {},
     "output_type": "display_data"
    }
   ],
   "source": [
    "fit.lm0 <- lm(mpg ~ horsepower+cylinders+year+weight:displacement, data=Auto)\n",
    "summary(fit.lm0)"
   ]
  },
  {
   "cell_type": "code",
   "execution_count": 33,
   "metadata": {},
   "outputs": [
    {
     "data": {
      "text/plain": [
       "\n",
       "Call:\n",
       "lm(formula = mpg ~ horsepower + cylinders + year + weight * displacement, \n",
       "    data = Auto)\n",
       "\n",
       "Residuals:\n",
       "    Min      1Q  Median      3Q     Max \n",
       "-9.7530 -1.8228 -0.0602  1.5780 12.6133 \n",
       "\n",
       "Coefficients:\n",
       "                      Estimate Std. Error t value Pr(>|t|)    \n",
       "(Intercept)         -2.210e+00  3.819e+00  -0.579  0.56316    \n",
       "horsepower          -3.396e-02  9.560e-03  -3.552  0.00043 ***\n",
       "cylinders            2.072e-01  2.914e-01   0.711  0.47756    \n",
       "year                 7.858e-01  4.555e-02  17.250  < 2e-16 ***\n",
       "weight              -1.084e-02  6.346e-04 -17.076  < 2e-16 ***\n",
       "displacement        -7.947e-02  9.905e-03  -8.023 1.26e-14 ***\n",
       "weight:displacement  2.431e-05  2.141e-06  11.355  < 2e-16 ***\n",
       "---\n",
       "Signif. codes:  0 '***' 0.001 '**' 0.01 '*' 0.05 '.' 0.1 ' ' 1\n",
       "\n",
       "Residual standard error: 2.976 on 385 degrees of freedom\n",
       "Multiple R-squared:  0.8568,\tAdjusted R-squared:  0.8546 \n",
       "F-statistic: 384.1 on 6 and 385 DF,  p-value: < 2.2e-16\n"
      ]
     },
     "metadata": {},
     "output_type": "display_data"
    }
   ],
   "source": [
    "fit.lm1 <- lm(mpg~horsepower+cylinders+year+weight*displacement, data=Auto)\n",
    "summary(fit.lm1)"
   ]
  },
  {
   "cell_type": "markdown",
   "metadata": {},
   "source": [
    "##### The two regressions we ran teach us several important lessons:\n",
    "\n",
    "**First**, there is a difference between using the symbol $A:B$ and the symbol $A*B$ when running a regression. While the first includes only the interaction term between the variable A and B, the second one also includes the stand-alone variables A and B. \n",
    "\n",
    "**Second**, if one wants to evaluate the \"true\" effect of an interaction term, one should always include the stand-alone terms. We can see exactly that by comparing the two regression outputs for $weight$ and $displacement$. While the first shows a significant negative coefficient for their interaction, the second shows a significant positive coefficient. \n",
    "\n",
    "Why is that the case? We know from exercise 9.b) that both variables are negatively correlated with mpg but positively correlated between themselves, thus, if we only include the interaction term in the regression this will capture the negative relation. However, we will only obtain the \"true\" interaction term coefficient by including the stand-alone terms, in the second output we can see that contrarily to the stand-alone coefficients which are significantly negative, the interaction one is significantly positive.\n",
    "\n",
    "**Third**, we have that $displacement$ \"measures overall volume in the engine as a factor of cylinder circumfrance, depth and total number of $cylinders$\". Hence, capturing the cylinders effect via the displacement variable should be expected. We see this first by observing that cylinders is highly correlated with displacement. And second, by noting that when including both variables (second regression) we render the coefficient of cylinders insignificant."
   ]
  },
  {
   "cell_type": "code",
   "execution_count": null,
   "metadata": {},
   "outputs": [],
   "source": []
  }
 ],
 "metadata": {
  "kernelspec": {
   "display_name": "R",
   "language": "R",
   "name": "ir"
  },
  "language_info": {
   "codemirror_mode": "r",
   "file_extension": ".r",
   "mimetype": "text/x-r-source",
   "name": "R",
   "pygments_lexer": "r",
   "version": "3.6.1"
  }
 },
 "nbformat": 4,
 "nbformat_minor": 2
}
