{
 "cells": [
  {
   "cell_type": "markdown",
   "metadata": {},
   "source": [
    "# ISLR Chapter 6"
   ]
  },
  {
   "cell_type": "markdown",
   "metadata": {},
   "source": [
    "## Exercise 2\n",
    "\n",
    "**For parts (a) through (c), indicate which of i. through iv. is correct. Justify your answer.**"
   ]
  },
  {
   "cell_type": "markdown",
   "metadata": {},
   "source": [
    "**2. a) The Lasso, relative to least squares, is:**\n",
    "\n",
    "   **i) More flexible and hence will give improved prediction accuracy when its increase in bias is less than its decrease in variance.**\n",
    "   \n",
    "   **ii) More flexible and hence will give improved prediction accuracy when its increase in variance is less than its decrease in bias.**\n",
    "   \n",
    "   **iii) Less flexible and hence will give improved prediction accuracy when its increase in bias is less than its decrease in variance.**\n",
    "   \n",
    "   **iv) Less flexible and hence will give improved prediction accuracy when its increase in variance is less than its decrease in bias.**"
   ]
  },
  {
   "cell_type": "markdown",
   "metadata": {},
   "source": [
    "**Answer:** iii) relative to least squares, the Lasso is less flexible and hence it will give us better predictions when its increase in bias is less than its decrease in variance (page 223)."
   ]
  },
  {
   "cell_type": "markdown",
   "metadata": {},
   "source": [
    "**2. b) Repeat (a) for ridge regression relative to least squares.**"
   ]
  },
  {
   "cell_type": "markdown",
   "metadata": {},
   "source": [
    "**Answer:** iii) same as in Lasso (page 217)."
   ]
  },
  {
   "cell_type": "markdown",
   "metadata": {},
   "source": [
    "**2. c) Repeat (a) for non-linear methods relative to least squares.**"
   ]
  },
  {
   "cell_type": "markdown",
   "metadata": {},
   "source": [
    "**Answer:** ii) relative to least squares, non-linear methods are tipically more flexible and hence, these methods will give us better predictions when the increase in variance is less than the decrease in bias."
   ]
  },
  {
   "cell_type": "markdown",
   "metadata": {},
   "source": [
    "## Exercise 4\n",
    "\n",
    "**Suppose we estimate the regression coefficients in a linear regression model by minimizing:**\n",
    "\n",
    "$\\sum^n_{i=1} (y_i - \\beta_0 - \\sum^p_{j=1} \\beta_j x_{i,j})^2 + \\lambda \\sum^p_{j=1} \\beta_j^2$\n",
    "\n",
    "**for a particular value of $\\lambda$. For parts (a) through (e), indicate which of i. through v. is correct. Justify your answer.**"
   ]
  },
  {
   "cell_type": "markdown",
   "metadata": {},
   "source": [
    "**4. a) As we increase $\\lambda$ from 0, the training RSS will:**\n",
    "\n",
    "   **i. Increase initially, and then eventually start decreasing in an inverted U shape.**\n",
    "   \n",
    "   **ii. Decrease initially, and then eventually start increasing in a U shape.**\n",
    "   \n",
    "   **iii. Steadily increase.**\n",
    "   \n",
    "   **iv. Steadily decrease.**\n",
    "   \n",
    "   **v. Remain constant.**"
   ]
  },
  {
   "cell_type": "markdown",
   "metadata": {},
   "source": [
    "**Answer:** iii. Steadily increase. \n",
    "\n",
    "As we increase $\\lambda$ from 0, all $\\beta$ 's decrease from their least square estimate values to 0. Training error for full-blown-OLS $\\beta$ 's is the minimum and it steadily increases as $\\beta$ 's are reduced to 0."
   ]
  },
  {
   "cell_type": "markdown",
   "metadata": {},
   "source": [
    "**4. b) Repeat (a) for test RSS.**"
   ]
  },
  {
   "cell_type": "markdown",
   "metadata": {},
   "source": [
    "**Answer:** ii. Decrease initially, and then eventually start increasing in a U shape. \n",
    "\n",
    "When  $\\lambda =0$, all $\\beta$ 's have their least square estimate values. In this case, the model tries to fit hard to training data and hence test RSS is high. As we increase  $\\lambda$, $\\beta$ 's start reducing to zero and some of the overfitting is reduced. Thus, test RSS initially decreases. Eventually, as $\\beta$ 's approach 0, the model becomes too simple and test RSS increases."
   ]
  },
  {
   "cell_type": "markdown",
   "metadata": {},
   "source": [
    "**4. c) Repeat (a) for variance.**"
   ]
  },
  {
   "cell_type": "markdown",
   "metadata": {},
   "source": [
    "**Answer:** iv. Steadily decrease.\n",
    "\n",
    "When $\\lambda =0$, the $\\beta$ 's have their least square estimate values. The actual estimates heavily depend on the training data and hence variance is high. As we increase $\\lambda$, $\\beta$ 's start decreasing and model becomes simpler. In the limiting case of $\\lambda$ approaching infinity, all $\\beta$ 's reduce to zero and model predicts a constant and has no variance."
   ]
  },
  {
   "cell_type": "markdown",
   "metadata": {},
   "source": [
    "**4. d) Repeat (a) for (squared) bias.**"
   ]
  },
  {
   "cell_type": "markdown",
   "metadata": {},
   "source": [
    "**Answer:** iii. Steadily increase.\n",
    "\n",
    "When $\\lambda =0$, the $\\beta$ 's have their least-square estimate values and hence have the least bias. As $\\lambda$ increases, $\\beta$ 's start reducing towards zero, the model fits less accurately to training data and hence bias increases. In the limiting case of $\\lambda$ approaching infinity, the model predicts a constant and hence bias is maximum."
   ]
  },
  {
   "cell_type": "markdown",
   "metadata": {},
   "source": [
    "**4. e) Repeat (a) for the irreducible error.**"
   ]
  },
  {
   "cell_type": "markdown",
   "metadata": {},
   "source": [
    "**Answer:** v. Remain constant.\n",
    "\n",
    "By definition, irreducible error is model independent and hence irrespective of the choice of $\\lambda$, it remains constant."
   ]
  },
  {
   "cell_type": "markdown",
   "metadata": {},
   "source": [
    "## Exercise 8\n",
    "\n",
    "**In this exercise, we will generate simulated data, and will then use this data to perform best subset selection.**"
   ]
  },
  {
   "cell_type": "markdown",
   "metadata": {},
   "source": [
    "#### 8. a) Use the rnorm() function to generate a predictor $X$ of length $n = 100$, as well as a noise vector $\\epsilon$ of length $n = 100$."
   ]
  },
  {
   "cell_type": "code",
   "execution_count": 3,
   "metadata": {},
   "outputs": [],
   "source": [
    "# set seed for rnorm function\n",
    "set.seed(10)\n",
    "\n",
    "# rnorm simulates random variates having a specified normal distribution, here the standard one\n",
    "X = rnorm(100)\n",
    "eps = rnorm(100)"
   ]
  },
  {
   "cell_type": "markdown",
   "metadata": {},
   "source": [
    "#### 8. b) Generate a response vector $Y$ of length $n = 100$ according to the model:\n",
    "\n",
    "$Y = \\beta_0 + \\beta_1 X + \\beta_2 X^2 + \\beta_3 X^3 + \\epsilon$\n",
    "\n",
    "**where $\\beta_0, \\beta_1, \\beta_2, \\beta_3$ are constants of your choice.**"
   ]
  },
  {
   "cell_type": "code",
   "execution_count": 4,
   "metadata": {},
   "outputs": [],
   "source": [
    "#select betas\n",
    "beta0 = 2\n",
    "beta1 = 2\n",
    "beta2 = -2\n",
    "beta3 = 4\n",
    "\n",
    "#write down the model to obtain the response vector Y\n",
    "Y = beta0 + beta1 * X + beta2 * X^2 + beta3 * X^3 + eps"
   ]
  },
  {
   "cell_type": "markdown",
   "metadata": {},
   "source": [
    "#### 8. c) Use the regsubsets() function to perform best subset selection in order to choose the best model containing the predictors $X, X^2, ..., X^{10}$. What is the best model obtained according to Cp, BIC, and adjusted $R^2$? Show some plots to provide evidence for your answer, and report the coefficients of the best model obtained. Note you will need to use the data.frame() function to create a single data set containing both $X$ and $Y$."
   ]
  },
  {
   "cell_type": "code",
   "execution_count": 10,
   "metadata": {},
   "outputs": [
    {
     "data": {
      "text/html": [
       "3"
      ],
      "text/latex": [
       "3"
      ],
      "text/markdown": [
       "3"
      ],
      "text/plain": [
       "[1] 3"
      ]
     },
     "metadata": {},
     "output_type": "display_data"
    },
    {
     "data": {
      "image/png": "[encoded data removed]",
      "text/plain": [
       "plot without title"
      ]
     },
     "metadata": {
      "image/png": {
       "height": 420,
       "width": 420
      }
     },
     "output_type": "display_data"
    }
   ],
   "source": [
    "#Install package leaps if needed\n",
    "#install.packages(\"leaps\")\n",
    "options(warn=-1)\n",
    "\n",
    "#call the leaps package\n",
    "library(leaps)\n",
    "\n",
    "#use data.frame() function to create single dataset of X and Y\n",
    "data.full = data.frame(y = Y, x = X)\n",
    "\n",
    "#Use the regsubsets() function to perform best subset selection\n",
    "mod.full = regsubsets(y ~ poly(x, 10, raw = T), data = data.full, nvmax = 10)\n",
    "\n",
    "#store results \"printed\" when using summary function\n",
    "mod.summary = summary(mod.full)\n",
    "\n",
    "# Plot and find the model size for best:\n",
    "# cp\n",
    "which.min(mod.summary$cp)\n",
    "\n",
    "plot(mod.summary$cp, xlab = \"Subset Size\", ylab = \"Cp\", pch = 20, type = \"l\")\n",
    "points(which.min(mod.summary$cp), mod.summary$cp[3], pch = 4, col = \"red\", lwd = 7)"
   ]
  },
  {
   "cell_type": "code",
   "execution_count": 11,
   "metadata": {},
   "outputs": [
    {
     "data": {
      "text/html": [
       "3"
      ],
      "text/latex": [
       "3"
      ],
      "text/markdown": [
       "3"
      ],
      "text/plain": [
       "[1] 3"
      ]
     },
     "metadata": {},
     "output_type": "display_data"
    },
    {
     "data": {
      "image/png": "[encoded data removed]",
      "text/plain": [
       "plot without title"
      ]
     },
     "metadata": {
      "image/png": {
       "height": 420,
       "width": 420
      }
     },
     "output_type": "display_data"
    }
   ],
   "source": [
    "# BIC\n",
    "which.min(mod.summary$bic)\n",
    "\n",
    "plot(mod.summary$bic, xlab = \"Subset Size\", ylab = \"BIC\", pch = 20, type = \"l\")\n",
    "points(which.min(mod.summary$bic), mod.summary$bic[3], pch = 4, col = \"red\", lwd = 7)"
   ]
  },
  {
   "cell_type": "code",
   "execution_count": 12,
   "metadata": {},
   "outputs": [
    {
     "data": {
      "text/html": [
       "3"
      ],
      "text/latex": [
       "3"
      ],
      "text/markdown": [
       "3"
      ],
      "text/plain": [
       "[1] 3"
      ]
     },
     "metadata": {},
     "output_type": "display_data"
    },
    {
     "data": {
      "image/png": "[encoded data removed]",
      "text/plain": [
       "plot without title"
      ]
     },
     "metadata": {
      "image/png": {
       "height": 420,
       "width": 420
      }
     },
     "output_type": "display_data"
    }
   ],
   "source": [
    "# adjr2\n",
    "which.max(mod.summary$adjr2)\n",
    "\n",
    "plot(mod.summary$adjr2, xlab = \"Subset Size\", ylab = \"Adjusted R2\", pch = 20, type = \"l\")\n",
    "points(which.max(mod.summary$adjr2), mod.summary$adjr2[3], pch = 4, col = \"red\", lwd = 7)"
   ]
  },
  {
   "cell_type": "markdown",
   "metadata": {},
   "source": [
    "**Answer:** We find that with Cp, BIC and Adjusted R2 criteria, 3, 3, and 3 variable models are respectively picked."
   ]
  },
  {
   "cell_type": "code",
   "execution_count": 13,
   "metadata": {},
   "outputs": [
    {
     "data": {
      "text/html": [
       "<style>\n",
       ".dl-inline {width: auto; margin:0; padding: 0}\n",
       ".dl-inline>dt, .dl-inline>dd {float: none; width: auto; display: inline-block}\n",
       ".dl-inline>dt::after {content: \":\\0020\"; padding-right: .5ex}\n",
       ".dl-inline>dt:not(:first-of-type) {padding-left: .5ex}\n",
       "</style><dl class=dl-inline><dt>(Intercept)</dt><dd>1.93</dd><dt>poly(x, 10, raw = T)1</dt><dd>1.88</dd><dt>poly(x, 10, raw = T)2</dt><dd>-2.04</dd><dt>poly(x, 10, raw = T)3</dt><dd>4.02</dd></dl>\n"
      ],
      "text/latex": [
       "\\begin{description*}\n",
       "\\item[(Intercept)] 1.93\n",
       "\\item[poly(x, 10, raw = T)1] 1.88\n",
       "\\item[poly(x, 10, raw = T)2] -2.04\n",
       "\\item[poly(x, 10, raw = T)3] 4.02\n",
       "\\end{description*}\n"
      ],
      "text/markdown": [
       "(Intercept)\n",
       ":   1.93poly(x, 10, raw = T)1\n",
       ":   1.88poly(x, 10, raw = T)2\n",
       ":   -2.04poly(x, 10, raw = T)3\n",
       ":   4.02\n",
       "\n"
      ],
      "text/plain": [
       "          (Intercept) poly(x, 10, raw = T)1 poly(x, 10, raw = T)2 \n",
       "                 1.93                  1.88                 -2.04 \n",
       "poly(x, 10, raw = T)3 \n",
       "                 4.02 "
      ]
     },
     "metadata": {},
     "output_type": "display_data"
    }
   ],
   "source": [
    " round(coefficients(mod.full, id = 3), digits=2)"
   ]
  },
  {
   "cell_type": "markdown",
   "metadata": {},
   "source": [
    "**Answer:** As expected, all the coefficients are quite close to our chosen $\\beta$ 's."
   ]
  },
  {
   "cell_type": "markdown",
   "metadata": {},
   "source": [
    "#### 8. d) Repeat (c), using forward stepwise selection and also using backwards stepwise selection. How does your answer compare to the results in (c)?"
   ]
  },
  {
   "cell_type": "code",
   "execution_count": 14,
   "metadata": {},
   "outputs": [
    {
     "data": {
      "text/html": [
       "3"
      ],
      "text/latex": [
       "3"
      ],
      "text/markdown": [
       "3"
      ],
      "text/plain": [
       "[1] 3"
      ]
     },
     "metadata": {},
     "output_type": "display_data"
    },
    {
     "data": {
      "text/html": [
       "5"
      ],
      "text/latex": [
       "5"
      ],
      "text/markdown": [
       "5"
      ],
      "text/plain": [
       "[1] 5"
      ]
     },
     "metadata": {},
     "output_type": "display_data"
    },
    {
     "data": {
      "text/html": [
       "3"
      ],
      "text/latex": [
       "3"
      ],
      "text/markdown": [
       "3"
      ],
      "text/plain": [
       "[1] 3"
      ]
     },
     "metadata": {},
     "output_type": "display_data"
    },
    {
     "data": {
      "text/html": [
       "5"
      ],
      "text/latex": [
       "5"
      ],
      "text/markdown": [
       "5"
      ],
      "text/plain": [
       "[1] 5"
      ]
     },
     "metadata": {},
     "output_type": "display_data"
    },
    {
     "data": {
      "text/html": [
       "3"
      ],
      "text/latex": [
       "3"
      ],
      "text/markdown": [
       "3"
      ],
      "text/plain": [
       "[1] 3"
      ]
     },
     "metadata": {},
     "output_type": "display_data"
    },
    {
     "data": {
      "text/html": [
       "5"
      ],
      "text/latex": [
       "5"
      ],
      "text/markdown": [
       "5"
      ],
      "text/plain": [
       "[1] 5"
      ]
     },
     "metadata": {},
     "output_type": "display_data"
    }
   ],
   "source": [
    "#Use the regsubsets() function to perform best subset selection (look at chosen method!)\n",
    "mod.fwd = regsubsets(y ~ poly(x, 10, raw = T), data = data.full, nvmax = 10, \n",
    "    method = \"forward\")\n",
    "mod.bwd = regsubsets(y ~ poly(x, 10, raw = T), data = data.full, nvmax = 10, \n",
    "    method = \"backward\")\n",
    "\n",
    "#store results\n",
    "fwd.summary = summary(mod.fwd)\n",
    "bwd.summary = summary(mod.bwd)\n",
    "\n",
    "# Find the model size for best:\n",
    "# cp forward\n",
    "which.min(fwd.summary$cp)\n",
    "\n",
    "# cp backward\n",
    "which.min(bwd.summary$cp)\n",
    "\n",
    "# BIC\n",
    "which.min(fwd.summary$bic)\n",
    "which.min(bwd.summary$bic)\n",
    "\n",
    "# adjr2\n",
    "which.max(fwd.summary$adjr2)\n",
    "which.max(bwd.summary$adjr2)"
   ]
  },
  {
   "cell_type": "code",
   "execution_count": 16,
   "metadata": {},
   "outputs": [
    {
     "data": {
      "image/png": "[encoded data removed]",
      "text/plain": [
       "plot without title"
      ]
     },
     "metadata": {
      "image/png": {
       "height": 420,
       "width": 420
      }
     },
     "output_type": "display_data"
    }
   ],
   "source": [
    "# Plot the statistics\n",
    "par(mfrow = c(3, 2))\n",
    "#cp\n",
    "plot(fwd.summary$cp, xlab = \"Subset Size\", ylab = \"Forward Cp\", pch = 20, type = \"l\")\n",
    "points(which.min(fwd.summary$cp), fwd.summary$cp[3], pch = 4, col = \"red\", lwd = 7)\n",
    "plot(bwd.summary$cp, xlab = \"Subset Size\", ylab = \"Backward Cp\", pch = 20, type = \"l\")\n",
    "points(which.min(bwd.summary$cp), bwd.summary$cp[3], pch = 4, col = \"red\", lwd = 7)\n",
    "\n",
    "#BIC\n",
    "plot(fwd.summary$bic, xlab = \"Subset Size\", ylab = \"Forward BIC\", pch = 20, type = \"l\")\n",
    "points(which.min(fwd.summary$bic), fwd.summary$bic[3], pch = 4, col = \"red\", lwd = 7)\n",
    "plot(bwd.summary$bic, xlab = \"Subset Size\", ylab = \"Backward BIC\", pch = 20, type = \"l\")\n",
    "points(which.min(bwd.summary$bic), bwd.summary$bic[3], pch = 4, col = \"red\", lwd = 7)\n",
    "\n",
    "#adjr2\n",
    "plot(fwd.summary$adjr2, xlab = \"Subset Size\", ylab = \"Forward Adjusted R2\", pch = 20, type = \"l\")\n",
    "points(which.max(fwd.summary$adjr2), fwd.summary$adjr2[3], pch = 4, col = \"red\", lwd = 7)\n",
    "plot(bwd.summary$adjr2, xlab = \"Subset Size\", ylab = \"Backward Adjusted R2\", pch = 20, type = \"l\")\n",
    "points(which.max(bwd.summary$adjr2), bwd.summary$adjr2[4], pch = 4, col = \"red\", lwd = 7)"
   ]
  },
  {
   "cell_type": "markdown",
   "metadata": {},
   "source": [
    "**Answer:** We see that while all backward stepwise with cp, BIC and adjusted $R^2$ pick 5 variable models, the forward stepwise with cp, BIC and adjusted $R^2$ pick only 3 variable models. Here are the coefficients:"
   ]
  },
  {
   "cell_type": "code",
   "execution_count": 17,
   "metadata": {},
   "outputs": [
    {
     "data": {
      "text/html": [
       "<style>\n",
       ".dl-inline {width: auto; margin:0; padding: 0}\n",
       ".dl-inline>dt, .dl-inline>dd {float: none; width: auto; display: inline-block}\n",
       ".dl-inline>dt::after {content: \":\\0020\"; padding-right: .5ex}\n",
       ".dl-inline>dt:not(:first-of-type) {padding-left: .5ex}\n",
       "</style><dl class=dl-inline><dt>(Intercept)</dt><dd>1.93</dd><dt>poly(x, 10, raw = T)1</dt><dd>1.88</dd><dt>poly(x, 10, raw = T)2</dt><dd>-2.04</dd><dt>poly(x, 10, raw = T)3</dt><dd>4.02</dd></dl>\n"
      ],
      "text/latex": [
       "\\begin{description*}\n",
       "\\item[(Intercept)] 1.93\n",
       "\\item[poly(x, 10, raw = T)1] 1.88\n",
       "\\item[poly(x, 10, raw = T)2] -2.04\n",
       "\\item[poly(x, 10, raw = T)3] 4.02\n",
       "\\end{description*}\n"
      ],
      "text/markdown": [
       "(Intercept)\n",
       ":   1.93poly(x, 10, raw = T)1\n",
       ":   1.88poly(x, 10, raw = T)2\n",
       ":   -2.04poly(x, 10, raw = T)3\n",
       ":   4.02\n",
       "\n"
      ],
      "text/plain": [
       "          (Intercept) poly(x, 10, raw = T)1 poly(x, 10, raw = T)2 \n",
       "                 1.93                  1.88                 -2.04 \n",
       "poly(x, 10, raw = T)3 \n",
       "                 4.02 "
      ]
     },
     "metadata": {},
     "output_type": "display_data"
    }
   ],
   "source": [
    " round(coefficients(mod.fwd, id = 3), digits=2)"
   ]
  },
  {
   "cell_type": "code",
   "execution_count": 18,
   "metadata": {},
   "outputs": [
    {
     "data": {
      "text/html": [
       "<style>\n",
       ".dl-inline {width: auto; margin:0; padding: 0}\n",
       ".dl-inline>dt, .dl-inline>dd {float: none; width: auto; display: inline-block}\n",
       ".dl-inline>dt::after {content: \":\\0020\"; padding-right: .5ex}\n",
       ".dl-inline>dt:not(:first-of-type) {padding-left: .5ex}\n",
       "</style><dl class=dl-inline><dt>(Intercept)</dt><dd>1.98</dd><dt>poly(x, 10, raw = T)1</dt><dd>3.14</dd><dt>poly(x, 10, raw = T)2</dt><dd>-2.08</dd><dt>poly(x, 10, raw = T)5</dt><dd>3.42</dd><dt>poly(x, 10, raw = T)7</dt><dd>-1.05</dd><dt>poly(x, 10, raw = T)9</dt><dd>0.11</dd></dl>\n"
      ],
      "text/latex": [
       "\\begin{description*}\n",
       "\\item[(Intercept)] 1.98\n",
       "\\item[poly(x, 10, raw = T)1] 3.14\n",
       "\\item[poly(x, 10, raw = T)2] -2.08\n",
       "\\item[poly(x, 10, raw = T)5] 3.42\n",
       "\\item[poly(x, 10, raw = T)7] -1.05\n",
       "\\item[poly(x, 10, raw = T)9] 0.11\n",
       "\\end{description*}\n"
      ],
      "text/markdown": [
       "(Intercept)\n",
       ":   1.98poly(x, 10, raw = T)1\n",
       ":   3.14poly(x, 10, raw = T)2\n",
       ":   -2.08poly(x, 10, raw = T)5\n",
       ":   3.42poly(x, 10, raw = T)7\n",
       ":   -1.05poly(x, 10, raw = T)9\n",
       ":   0.11\n",
       "\n"
      ],
      "text/plain": [
       "          (Intercept) poly(x, 10, raw = T)1 poly(x, 10, raw = T)2 \n",
       "                 1.98                  3.14                 -2.08 \n",
       "poly(x, 10, raw = T)5 poly(x, 10, raw = T)7 poly(x, 10, raw = T)9 \n",
       "                 3.42                 -1.05                  0.11 "
      ]
     },
     "metadata": {},
     "output_type": "display_data"
    }
   ],
   "source": [
    "round(coefficients(mod.bwd, id = 5), digits=2)"
   ]
  },
  {
   "cell_type": "markdown",
   "metadata": {},
   "source": [
    "**Answer:** Here, and as expected, all the coefficients for forward stepwise are quite close to our chosen $\\beta$ 's. However, for the backward stepwise with 5 variable picks $X^5, X^7, X^9$ and drops $X^3$."
   ]
  },
  {
   "cell_type": "markdown",
   "metadata": {},
   "source": [
    "#### 8. e) Now fit a lasso model to the simulated data, again using $X, X^2, ..., X^{10}$ as predictors. Use cross-validation to select the optimal value of $\\lambda$. Create plots of the cross-validation error as a function of $\\lambda$. Report the resulting coefficient estimates, and discuss the results obtained."
   ]
  },
  {
   "cell_type": "code",
   "execution_count": 20,
   "metadata": {},
   "outputs": [
    {
     "data": {
      "text/html": [
       "0.0598827470931829"
      ],
      "text/latex": [
       "0.0598827470931829"
      ],
      "text/markdown": [
       "0.0598827470931829"
      ],
      "text/plain": [
       "[1] 0.05988275"
      ]
     },
     "metadata": {},
     "output_type": "display_data"
    },
    {
     "data": {
      "image/png": "[encoded data removed]",
      "text/plain": [
       "plot without title"
      ]
     },
     "metadata": {
      "image/png": {
       "height": 420,
       "width": 420
      }
     },
     "output_type": "display_data"
    }
   ],
   "source": [
    "#Install package glmnet if needed\n",
    "#install.packages(\"glmnet\")\n",
    "options(warn=-1)\n",
    "\n",
    "#call the glmnet package\n",
    "library(glmnet)\n",
    "\n",
    "#set seed\n",
    "set.seed(10)\n",
    "\n",
    "#training Lasso on the data\n",
    "xmat = model.matrix(y ~ poly(x, 10, raw = T), data = data.full)[, -1]\n",
    "\n",
    "#Use cross-validation to select the optimal value of  lambda\n",
    "mod.lasso = cv.glmnet(xmat, Y, alpha = 1)\n",
    "\n",
    "#store and display lambda\n",
    "best.lambda = mod.lasso$lambda.min\n",
    "best.lambda\n",
    "\n",
    "#plot\n",
    "plot(mod.lasso)"
   ]
  },
  {
   "cell_type": "code",
   "execution_count": 21,
   "metadata": {},
   "outputs": [
    {
     "data": {
      "text/plain": [
       "11 x 1 sparse Matrix of class \"dgCMatrix\"\n",
       "                               1\n",
       "(Intercept)             1.881373\n",
       "poly(x, 10, raw = T)1   1.854449\n",
       "poly(x, 10, raw = T)2  -1.991838\n",
       "poly(x, 10, raw = T)3   4.010379\n",
       "poly(x, 10, raw = T)4   .       \n",
       "poly(x, 10, raw = T)5   .       \n",
       "poly(x, 10, raw = T)6   .       \n",
       "poly(x, 10, raw = T)7   .       \n",
       "poly(x, 10, raw = T)8   .       \n",
       "poly(x, 10, raw = T)9   .       \n",
       "poly(x, 10, raw = T)10  .       "
      ]
     },
     "metadata": {},
     "output_type": "display_data"
    }
   ],
   "source": [
    "# Next fit the model on entire data using best lambda\n",
    "best.model = glmnet(xmat, Y, alpha = 1)\n",
    "predict(best.model, s = best.lambda, type = \"coefficients\")"
   ]
  },
  {
   "cell_type": "markdown",
   "metadata": {},
   "source": [
    "**Answer:** Lasso picks the correct specification."
   ]
  },
  {
   "cell_type": "markdown",
   "metadata": {},
   "source": [
    "#### 8. f) Now generate a response vector Y according to the model:\n",
    "\n",
    "$Y = \\beta_0 + \\beta_7 X^7 + \\epsilon$\n",
    "\n",
    "**and perform best subset selection and the lasso. Discuss the results obtained.**"
   ]
  },
  {
   "cell_type": "code",
   "execution_count": 22,
   "metadata": {},
   "outputs": [
    {
     "data": {
      "text/html": [
       "1"
      ],
      "text/latex": [
       "1"
      ],
      "text/markdown": [
       "1"
      ],
      "text/plain": [
       "[1] 1"
      ]
     },
     "metadata": {},
     "output_type": "display_data"
    },
    {
     "data": {
      "text/html": [
       "1"
      ],
      "text/latex": [
       "1"
      ],
      "text/markdown": [
       "1"
      ],
      "text/plain": [
       "[1] 1"
      ]
     },
     "metadata": {},
     "output_type": "display_data"
    },
    {
     "data": {
      "text/html": [
       "10"
      ],
      "text/latex": [
       "10"
      ],
      "text/markdown": [
       "10"
      ],
      "text/plain": [
       "[1] 10"
      ]
     },
     "metadata": {},
     "output_type": "display_data"
    }
   ],
   "source": [
    "# create new beta 7\n",
    "beta7 = 2\n",
    "\n",
    "# model\n",
    "Y = beta0 + beta7 * X^7 + eps\n",
    "\n",
    "# Predict using regsubsets\n",
    "data.full = data.frame(y = Y, x = X)\n",
    "mod.full = regsubsets(y ~ poly(x, 10, raw = T), data = data.full, nvmax = 10)\n",
    "mod.summary = summary(mod.full)\n",
    "\n",
    "# Find the model size for best cp, BIC and adjr2\n",
    "which.min(mod.summary$cp)\n",
    "which.min(mod.summary$bic)\n",
    "which.min(mod.summary$adjr2)"
   ]
  },
  {
   "cell_type": "code",
   "execution_count": 24,
   "metadata": {},
   "outputs": [
    {
     "data": {
      "text/html": [
       "<style>\n",
       ".dl-inline {width: auto; margin:0; padding: 0}\n",
       ".dl-inline>dt, .dl-inline>dd {float: none; width: auto; display: inline-block}\n",
       ".dl-inline>dt::after {content: \":\\0020\"; padding-right: .5ex}\n",
       ".dl-inline>dt:not(:first-of-type) {padding-left: .5ex}\n",
       "</style><dl class=dl-inline><dt>(Intercept)</dt><dd>1.9</dd><dt>poly(x, 10, raw = T)7</dt><dd>2</dd></dl>\n"
      ],
      "text/latex": [
       "\\begin{description*}\n",
       "\\item[(Intercept)] 1.9\n",
       "\\item[poly(x, 10, raw = T)7] 2\n",
       "\\end{description*}\n"
      ],
      "text/markdown": [
       "(Intercept)\n",
       ":   1.9poly(x, 10, raw = T)7\n",
       ":   2\n",
       "\n"
      ],
      "text/plain": [
       "          (Intercept) poly(x, 10, raw = T)7 \n",
       "                  1.9                   2.0 "
      ]
     },
     "metadata": {},
     "output_type": "display_data"
    }
   ],
   "source": [
    "round(coefficients(mod.full, id = 1), digits=2)"
   ]
  },
  {
   "cell_type": "code",
   "execution_count": 15,
   "metadata": {},
   "outputs": [
    {
     "data": {
      "text/html": [
       "<style>\n",
       ".dl-inline {width: auto; margin:0; padding: 0}\n",
       ".dl-inline>dt, .dl-inline>dd {float: none; width: auto; display: inline-block}\n",
       ".dl-inline>dt::after {content: \":\\0020\"; padding-right: .5ex}\n",
       ".dl-inline>dt:not(:first-of-type) {padding-left: .5ex}\n",
       "</style><dl class=dl-inline><dt>(Intercept)</dt><dd>1.98</dd><dt>poly(x, 10, raw = T)1</dt><dd>0.64</dd><dt>poly(x, 10, raw = T)2</dt><dd>0.45</dd><dt>poly(x, 10, raw = T)3</dt><dd>-2.61</dd><dt>poly(x, 10, raw = T)4</dt><dd>-1.82</dd><dt>poly(x, 10, raw = T)5</dt><dd>2.33</dd><dt>poly(x, 10, raw = T)6</dt><dd>1.47</dd><dt>poly(x, 10, raw = T)7</dt><dd>1.3</dd><dt>poly(x, 10, raw = T)8</dt><dd>-0.4</dd><dt>poly(x, 10, raw = T)9</dt><dd>0.07</dd><dt>poly(x, 10, raw = T)10</dt><dd>0.04</dd></dl>\n"
      ],
      "text/latex": [
       "\\begin{description*}\n",
       "\\item[(Intercept)] 1.98\n",
       "\\item[poly(x, 10, raw = T)1] 0.64\n",
       "\\item[poly(x, 10, raw = T)2] 0.45\n",
       "\\item[poly(x, 10, raw = T)3] -2.61\n",
       "\\item[poly(x, 10, raw = T)4] -1.82\n",
       "\\item[poly(x, 10, raw = T)5] 2.33\n",
       "\\item[poly(x, 10, raw = T)6] 1.47\n",
       "\\item[poly(x, 10, raw = T)7] 1.3\n",
       "\\item[poly(x, 10, raw = T)8] -0.4\n",
       "\\item[poly(x, 10, raw = T)9] 0.07\n",
       "\\item[poly(x, 10, raw = T)10] 0.04\n",
       "\\end{description*}\n"
      ],
      "text/markdown": [
       "(Intercept)\n",
       ":   1.98poly(x, 10, raw = T)1\n",
       ":   0.64poly(x, 10, raw = T)2\n",
       ":   0.45poly(x, 10, raw = T)3\n",
       ":   -2.61poly(x, 10, raw = T)4\n",
       ":   -1.82poly(x, 10, raw = T)5\n",
       ":   2.33poly(x, 10, raw = T)6\n",
       ":   1.47poly(x, 10, raw = T)7\n",
       ":   1.3poly(x, 10, raw = T)8\n",
       ":   -0.4poly(x, 10, raw = T)9\n",
       ":   0.07poly(x, 10, raw = T)10\n",
       ":   0.04\n",
       "\n"
      ],
      "text/plain": [
       "           (Intercept)  poly(x, 10, raw = T)1  poly(x, 10, raw = T)2 \n",
       "                  1.98                   0.64                   0.45 \n",
       " poly(x, 10, raw = T)3  poly(x, 10, raw = T)4  poly(x, 10, raw = T)5 \n",
       "                 -2.61                  -1.82                   2.33 \n",
       " poly(x, 10, raw = T)6  poly(x, 10, raw = T)7  poly(x, 10, raw = T)8 \n",
       "                  1.47                   1.30                  -0.40 \n",
       " poly(x, 10, raw = T)9 poly(x, 10, raw = T)10 \n",
       "                  0.07                   0.04 "
      ]
     },
     "metadata": {},
     "output_type": "display_data"
    }
   ],
   "source": [
    "round(coefficients(mod.full, id = 10), digits=2)"
   ]
  },
  {
   "cell_type": "markdown",
   "metadata": {},
   "source": [
    "**Answer:** We see that both cp and BIC pick the most accurate 1-variable model with matching coefficients. Adjusted $R^2$ criteria picks 10(!) variables."
   ]
  },
  {
   "cell_type": "code",
   "execution_count": 25,
   "metadata": {},
   "outputs": [
    {
     "data": {
      "text/html": [
       "2.71742277977744"
      ],
      "text/latex": [
       "2.71742277977744"
      ],
      "text/markdown": [
       "2.71742277977744"
      ],
      "text/plain": [
       "[1] 2.717423"
      ]
     },
     "metadata": {},
     "output_type": "display_data"
    }
   ],
   "source": [
    "xmat = model.matrix(y ~ poly(x, 10, raw = T), data = data.full)[, -1]\n",
    "mod.lasso = cv.glmnet(xmat, Y, alpha = 1)\n",
    "best.lambda = mod.lasso$lambda.min\n",
    "best.lambda"
   ]
  },
  {
   "cell_type": "code",
   "execution_count": 26,
   "metadata": {},
   "outputs": [
    {
     "data": {
      "text/plain": [
       "11 x 1 sparse Matrix of class \"dgCMatrix\"\n",
       "                              1\n",
       "(Intercept)            1.783453\n",
       "poly(x, 10, raw = T)1  .       \n",
       "poly(x, 10, raw = T)2  .       \n",
       "poly(x, 10, raw = T)3  .       \n",
       "poly(x, 10, raw = T)4  .       \n",
       "poly(x, 10, raw = T)5  .       \n",
       "poly(x, 10, raw = T)6  .       \n",
       "poly(x, 10, raw = T)7  1.941570\n",
       "poly(x, 10, raw = T)8  .       \n",
       "poly(x, 10, raw = T)9  .       \n",
       "poly(x, 10, raw = T)10 .       "
      ]
     },
     "metadata": {},
     "output_type": "display_data"
    }
   ],
   "source": [
    "best.model = glmnet(xmat, Y, alpha = 1)\n",
    "predict(best.model, s = best.lambda, type = \"coefficients\")"
   ]
  },
  {
   "cell_type": "markdown",
   "metadata": {},
   "source": [
    "**Answer:** Lasso also picks the best 1-variable model with coefficients being quite close to our specification."
   ]
  },
  {
   "cell_type": "markdown",
   "metadata": {},
   "source": [
    "## Exercise 10\n",
    "**We have seen that as the number of features used in a model increases, the training error will necessarily decrease, but the test error may not. We will now explore this in a simulated data set.**"
   ]
  },
  {
   "cell_type": "markdown",
   "metadata": {},
   "source": [
    "#### 10. a) Generate a data set with $p = 20$ features, $n = 1000$ observations, and an associated quantitative response vector generated according to the model:\n",
    "\n",
    "$Y = X\\beta + \\epsilon$\n",
    "\n",
    "**where $\\beta$ has some elements that are exactly equal to zero.**"
   ]
  },
  {
   "cell_type": "code",
   "execution_count": 31,
   "metadata": {},
   "outputs": [],
   "source": [
    "# set seed for rnorm function\n",
    "set.seed(10)\n",
    "\n",
    "# select number of features\n",
    "p = 20\n",
    "\n",
    "# select number of observations\n",
    "n = 1000\n",
    "\n",
    "# rnorm simulates random variates having a specified normal distribution, here the standard one\n",
    "# x is a 1000x20 matrix\n",
    "x = matrix(rnorm(n * p), n, p)\n",
    "# B and eps are a 20x1 vector\n",
    "B = rnorm(p)\n",
    "eps = rnorm(p)\n",
    "\n",
    "# set some elements of B equal to zero\n",
    "B[3] = 0\n",
    "B[4] = 0\n",
    "B[9] = 0\n",
    "B[10] = 0\n",
    "B[19] = 0\n",
    "\n",
    "# use %*% for matrix multiplication to obtain a 1000*1 vector\n",
    "# if we use * instead we obtain a 1000*20 vector. why? This operation\n",
    "# does a simple element by element multiplication up to matrices.\n",
    "y = x %*% B + eps"
   ]
  },
  {
   "cell_type": "markdown",
   "metadata": {},
   "source": [
    "#### 10 .b) Split your data set into a training set containing 100 observations and a test set containing 900 observations."
   ]
  },
  {
   "cell_type": "code",
   "execution_count": 33,
   "metadata": {},
   "outputs": [],
   "source": [
    "# set seed\n",
    "set.seed(10)\n",
    "\n",
    "# sample function takes a sample of the specified size (100) \n",
    "# from the elements of 1, 2, ..., 1000, without replacement\n",
    "train   = sample(seq(1000), 100, replace = FALSE)\n",
    "\n",
    "# use the previously defined train vector to indicate which\n",
    "# data subset is the training and the testing one\n",
    "y.train = y[train, ]\n",
    "y.test  = y[-train, ]\n",
    "x.train = x[train, ]\n",
    "x.test  = x[-train, ]"
   ]
  },
  {
   "cell_type": "markdown",
   "metadata": {},
   "source": [
    "#### 10. c) Perform best subset selection on the training set, and plot the training set MSE associated with the best model of each size."
   ]
  },
  {
   "cell_type": "code",
   "execution_count": 34,
   "metadata": {},
   "outputs": [
    {
     "data": {
      "image/png": "[encoded data removed]",
      "text/plain": [
       "plot without title"
      ]
     },
     "metadata": {
      "image/png": {
       "height": 420,
       "width": 420
      }
     },
     "output_type": "display_data"
    }
   ],
   "source": [
    "# set seed\n",
    "set.seed(10)\n",
    "\n",
    "# call leaps package\n",
    "library(leaps)\n",
    "\n",
    "# nvmax - maximum size of subsets to examine\n",
    "regfit.full = regsubsets(y ~ ., data = data.frame(x = x.train, y = y.train), nvmax = p)\n",
    "\n",
    "# create storage vector\n",
    "val.errors = rep(NA, p)\n",
    "\n",
    "# store column names\n",
    "x_cols = colnames(x, do.NULL = FALSE, prefix = \"x.\")\n",
    "\n",
    "# loop over each subset p\n",
    "for (i in 1:p) {\n",
    "    # store coefficients\n",
    "    coefi = coef(regfit.full, id = i)\n",
    "    # make prediction using training subset\n",
    "    pred = as.matrix(x.train[, x_cols %in% names(coefi)]) %*% coefi[names(coefi) %in% x_cols]\n",
    "    # store MSE of the training subset\n",
    "    val.errors[i] = mean((y.train - pred)^2)\n",
    "}\n",
    "\n",
    "#plot\n",
    "plot(val.errors, ylab = \"Training MSE\", pch = 5, type = \"b\")"
   ]
  },
  {
   "cell_type": "markdown",
   "metadata": {},
   "source": [
    "#### 10. d) Plot the test set MSE associated with the best model of each size."
   ]
  },
  {
   "cell_type": "code",
   "execution_count": 35,
   "metadata": {},
   "outputs": [
    {
     "data": {
      "image/png": "[encoded data removed]",
      "text/plain": [
       "plot without title"
      ]
     },
     "metadata": {
      "image/png": {
       "height": 420,
       "width": 420
      }
     },
     "output_type": "display_data"
    }
   ],
   "source": [
    "# create storage vector\n",
    "val.errors = rep(NA, p)\n",
    "\n",
    "# loop over each subset p\n",
    "for (i in 1:p) {\n",
    "    # store coefficients\n",
    "    coefi = coef(regfit.full, id = i)\n",
    "    # make prediction using testing subset\n",
    "    pred = as.matrix(x.test[, x_cols %in% names(coefi)]) %*% coefi[names(coefi) %in% x_cols]\n",
    "    # store MSE of the testing subset\n",
    "    val.errors[i] = mean((y.test - pred)^2)\n",
    "}\n",
    "\n",
    "# plot\n",
    "plot(val.errors, ylab = \"Test MSE\", pch = 19, type = \"b\")"
   ]
  },
  {
   "cell_type": "markdown",
   "metadata": {},
   "source": [
    "#### 10. e) For which model size does the test set MSE take on its minimum value? Comment on your results."
   ]
  },
  {
   "cell_type": "code",
   "execution_count": 22,
   "metadata": {},
   "outputs": [
    {
     "data": {
      "text/html": [
       "13"
      ],
      "text/latex": [
       "13"
      ],
      "text/markdown": [
       "13"
      ],
      "text/plain": [
       "[1] 13"
      ]
     },
     "metadata": {},
     "output_type": "display_data"
    }
   ],
   "source": [
    "which.min(val.errors)"
   ]
  },
  {
   "cell_type": "markdown",
   "metadata": {},
   "source": [
    "**Answer:** A 13 parameter model has the smallest test MSE."
   ]
  },
  {
   "cell_type": "markdown",
   "metadata": {},
   "source": [
    "#### 10. f) How does the model at which the test set MSE is minimized compare to the true model used to generate the data? Comment on the coefficient values."
   ]
  },
  {
   "cell_type": "code",
   "execution_count": 36,
   "metadata": {},
   "outputs": [
    {
     "data": {
      "text/html": [
       "<style>\n",
       ".dl-inline {width: auto; margin:0; padding: 0}\n",
       ".dl-inline>dt, .dl-inline>dd {float: none; width: auto; display: inline-block}\n",
       ".dl-inline>dt::after {content: \":\\0020\"; padding-right: .5ex}\n",
       ".dl-inline>dt:not(:first-of-type) {padding-left: .5ex}\n",
       "</style><dl class=dl-inline><dt>(Intercept)</dt><dd>0.12</dd><dt>x.1</dt><dd>1.06</dd><dt>x.5</dt><dd>-1.1</dd><dt>x.6</dt><dd>-1.44</dd><dt>x.7</dt><dd>2.62</dd><dt>x.8</dt><dd>-2.12</dd><dt>x.11</dt><dd>2.22</dd><dt>x.12</dt><dd>1.06</dd><dt>x.13</dt><dd>2.13</dd><dt>x.14</dt><dd>1.3</dd><dt>x.15</dt><dd>1.13</dd><dt>x.16</dt><dd>-0.51</dd><dt>x.17</dt><dd>1.07</dd><dt>x.20</dt><dd>0.35</dd></dl>\n"
      ],
      "text/latex": [
       "\\begin{description*}\n",
       "\\item[(Intercept)] 0.12\n",
       "\\item[x.1] 1.06\n",
       "\\item[x.5] -1.1\n",
       "\\item[x.6] -1.44\n",
       "\\item[x.7] 2.62\n",
       "\\item[x.8] -2.12\n",
       "\\item[x.11] 2.22\n",
       "\\item[x.12] 1.06\n",
       "\\item[x.13] 2.13\n",
       "\\item[x.14] 1.3\n",
       "\\item[x.15] 1.13\n",
       "\\item[x.16] -0.51\n",
       "\\item[x.17] 1.07\n",
       "\\item[x.20] 0.35\n",
       "\\end{description*}\n"
      ],
      "text/markdown": [
       "(Intercept)\n",
       ":   0.12x.1\n",
       ":   1.06x.5\n",
       ":   -1.1x.6\n",
       ":   -1.44x.7\n",
       ":   2.62x.8\n",
       ":   -2.12x.11\n",
       ":   2.22x.12\n",
       ":   1.06x.13\n",
       ":   2.13x.14\n",
       ":   1.3x.15\n",
       ":   1.13x.16\n",
       ":   -0.51x.17\n",
       ":   1.07x.20\n",
       ":   0.35\n",
       "\n"
      ],
      "text/plain": [
       "(Intercept)         x.1         x.5         x.6         x.7         x.8 \n",
       "       0.12        1.06       -1.10       -1.44        2.62       -2.12 \n",
       "       x.11        x.12        x.13        x.14        x.15        x.16 \n",
       "       2.22        1.06        2.13        1.30        1.13       -0.51 \n",
       "       x.17        x.20 \n",
       "       1.07        0.35 "
      ]
     },
     "metadata": {},
     "output_type": "display_data"
    }
   ],
   "source": [
    "round(coef(regfit.full, id = which.min(val.errors)), digits=2)"
   ]
  },
  {
   "cell_type": "markdown",
   "metadata": {},
   "source": [
    "**Answer:** Caught all zeroed coefficients (3,4,9,10,19) and added other zeroed coefficients (2,18)."
   ]
  },
  {
   "cell_type": "markdown",
   "metadata": {},
   "source": [
    "#### 10. g) Create a plot displaying $\\sqrt{\\sum_{j=1}^p (\\beta_j - \\hat{\\beta}_j^r)^2}$ for a range of values of $r$, where $\\hat{\\beta}_j^r$ is the $j$th coefficient estimate for the best model containing $r$ coefficients. Comment on what you observe. How does this compare to the test MSE plot from (d)?"
   ]
  },
  {
   "cell_type": "code",
   "execution_count": 39,
   "metadata": {},
   "outputs": [
    {
     "data": {
      "image/png": "[encoded data removed]",
      "text/plain": [
       "plot without title"
      ]
     },
     "metadata": {
      "image/png": {
       "height": 420,
       "width": 420
      }
     },
     "output_type": "display_data"
    }
   ],
   "source": [
    "# create storage vectors\n",
    "val.errors = rep(NA, p)\n",
    "a = rep(NA, p)\n",
    "b = rep(NA, p)\n",
    "\n",
    "# loop over each subset p\n",
    "for (i in 1:p) {\n",
    "    # store coefficients\n",
    "    coefi = coef(regfit.full, id = i)\n",
    "    \n",
    "    # store number of coefficients excluding the intercept\n",
    "    a[i] = length(coefi) - 1\n",
    "    \n",
    "    # compute what is asked in the question   -   to be confirmed!!!\n",
    "    b[i] = sqrt(sum((B[x_cols %in% names(coefi)] - coefi[names(coefi) %in% x_cols])^2) + \n",
    "        sum(B[!(x_cols %in% names(coefi))])^2)\n",
    "}\n",
    "\n",
    "# plot\n",
    "plot(x = a, y = b, xlab = \"number of coefficients\", ylab = \"error between estimated and true coefficients\", pch = 19, type = \"b\")"
   ]
  },
  {
   "cell_type": "code",
   "execution_count": 40,
   "metadata": {},
   "outputs": [
    {
     "data": {
      "text/html": [
       "12"
      ],
      "text/latex": [
       "12"
      ],
      "text/markdown": [
       "12"
      ],
      "text/plain": [
       "[1] 12"
      ]
     },
     "metadata": {},
     "output_type": "display_data"
    }
   ],
   "source": [
    "which.min(b)"
   ]
  },
  {
   "cell_type": "markdown",
   "metadata": {},
   "source": [
    "**Answer:** Test error is minimized with a 12 parameter model."
   ]
  }
 ],
 "metadata": {
  "kernelspec": {
   "display_name": "R",
   "language": "R",
   "name": "ir"
  },
  "language_info": {
   "codemirror_mode": "r",
   "file_extension": ".r",
   "mimetype": "text/x-r-source",
   "name": "R",
   "pygments_lexer": "r",
   "version": "3.6.1"
  }
 },
 "nbformat": 4,
 "nbformat_minor": 2
}
