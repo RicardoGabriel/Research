{
 "cells": [
  {
   "cell_type": "markdown",
   "metadata": {},
   "source": [
    "# ISLR Chapter 5"
   ]
  },
  {
   "cell_type": "markdown",
   "metadata": {},
   "source": [
    "## Exercise 3\n",
    "\n",
    "**We now review k-fold cross-validation.**"
   ]
  },
  {
   "cell_type": "markdown",
   "metadata": {},
   "source": [
    "**3. a) Explain how k-fold cross-validation is implemented.**"
   ]
  },
  {
   "cell_type": "markdown",
   "metadata": {},
   "source": [
    "K-fold cross-validation is implemented by taking the set of n observations and randomly splitting into k non-overlapping groups of roughly equal group-size. To compute the n-th $(n=1,2,...,K)$ MSE estimate, group k is used to as a validation set and the remainder as a training set. The test error is estimated by averaging the K resulting MSE estimates."
   ]
  },
  {
   "cell_type": "markdown",
   "metadata": {},
   "source": [
    "**3. b) What are the advantages and disadvantages of k-fold cross-validation relative to i) the validation set approach and ii) LOOCV?**"
   ]
  },
  {
   "cell_type": "markdown",
   "metadata": {},
   "source": [
    "The validation set approach is conceptually simple and easily implemented as you are simply partitioning the existing training data into two sets. However, there are two drawbacks: (1.) the estimate of the test error rate can be highly variable depending on which observations are included in the training and validation sets. (2.) the validation set error rate may tend to overestimate the test error rate for the model fit on the entire data set since the training set has a relatively small sample size.\n",
    "\n",
    "LOOCV is a special case of k-fold cross-validation with k = n. Thus, LOOCV is the most computationally intense method since the model must be fit n times. Also, LOOCV has higher variance, but lower bias, than k-fold CV."
   ]
  },
  {
   "cell_type": "markdown",
   "metadata": {},
   "source": [
    "## Exercise 4\n",
    "\n",
    "**Suppose that we use some statistical learning method to make a prediction for the response Y for a particular value of the predictor X. Carefully describe how we might estimate the standard deviation of our prediction.**"
   ]
  },
  {
   "cell_type": "markdown",
   "metadata": {},
   "source": [
    "If we suppose using some statistical learning method to make a prediction for the response Y for a particular value of the predictor X we might estimate the standard deviation of our prediction by using the bootstrap approach. \n",
    "\n",
    "Let $\\hat{Y} = \\hat{f}(X)$ denote the predictionf of $Y$ for the given $X$. The bootstrap approach works by repeatedly sampling observations (with replacement) from the original data set B times, for some large value of B, each time fitting a new model, $\\hat{f}^*_1, \\hat{f}^*_2, ..., \\hat{f}^*_B$, and subsequently obtaining the RMSE of the estimates for all B models by computing $\\sqrt{\\sum^B_{b=1} (\\hat{f}^*_b(X)-Y)^2}$"
   ]
  },
  {
   "cell_type": "markdown",
   "metadata": {},
   "source": [
    "## Exercise 5\n",
    "\n",
    "**In Chapter 4, we used logistic regression to predict the probability of default using income and balance on the Default data set. We will now estimate the test error of this logistic regression model using the validation set approach. Do not forget to set a random seed before beginning your analysis.**"
   ]
  },
  {
   "cell_type": "code",
   "execution_count": 1,
   "metadata": {},
   "outputs": [
    {
     "data": {
      "text/plain": [
       " default    student       balance           income     \n",
       " No :9667   No :7056   Min.   :   0.0   Min.   :  772  \n",
       " Yes: 333   Yes:2944   1st Qu.: 481.7   1st Qu.:21340  \n",
       "                       Median : 823.6   Median :34553  \n",
       "                       Mean   : 835.4   Mean   :33517  \n",
       "                       3rd Qu.:1166.3   3rd Qu.:43808  \n",
       "                       Max.   :2654.3   Max.   :73554  "
      ]
     },
     "metadata": {},
     "output_type": "display_data"
    }
   ],
   "source": [
    "#No warnings for print version\n",
    "options(warn=-1)\n",
    "\n",
    "#First, load the necessary R-packages:\n",
    "#install.packages(\"ISLR\")\n",
    "\n",
    "#call the packages you need\n",
    "library(\"ISLR\")\n",
    "\n",
    "#Take a first look at the data - this time no need to clean the data\n",
    "fix(Default)    # allows to edit the data\n",
    "attach(Default) # eliminates the need of refering to a variable like Weekly$variable.\n",
    "\n",
    "# Use summary function to produce a numerical summary for each variable\n",
    "summary(Default)"
   ]
  },
  {
   "cell_type": "markdown",
   "metadata": {},
   "source": [
    "#### 5. a) Fit a logistic regression model that uses income and balance to predict default."
   ]
  },
  {
   "cell_type": "code",
   "execution_count": 2,
   "metadata": {},
   "outputs": [
    {
     "data": {
      "text/plain": [
       "\n",
       "Call:\n",
       "glm(formula = default ~ income + balance, family = binomial, \n",
       "    data = Default)\n",
       "\n",
       "Deviance Residuals: \n",
       "    Min       1Q   Median       3Q      Max  \n",
       "-2.4725  -0.1444  -0.0574  -0.0211   3.7245  \n",
       "\n",
       "Coefficients:\n",
       "              Estimate Std. Error z value Pr(>|z|)    \n",
       "(Intercept) -1.154e+01  4.348e-01 -26.545  < 2e-16 ***\n",
       "income       2.081e-05  4.985e-06   4.174 2.99e-05 ***\n",
       "balance      5.647e-03  2.274e-04  24.836  < 2e-16 ***\n",
       "---\n",
       "Signif. codes:  0 '***' 0.001 '**' 0.01 '*' 0.05 '.' 0.1 ' ' 1\n",
       "\n",
       "(Dispersion parameter for binomial family taken to be 1)\n",
       "\n",
       "    Null deviance: 2920.6  on 9999  degrees of freedom\n",
       "Residual deviance: 1579.0  on 9997  degrees of freedom\n",
       "AIC: 1585\n",
       "\n",
       "Number of Fisher Scoring iterations: 8\n"
      ]
     },
     "metadata": {},
     "output_type": "display_data"
    }
   ],
   "source": [
    "# Set seed\n",
    "set.seed(1)\n",
    "\n",
    "# Estimate a GLM model where \"family=binomial\" selects a logistic regression\n",
    "glm.fit = glm(default ~ income + balance, data = Default, family = binomial)\n",
    "\n",
    "# Use summary function to print the results\n",
    "summary(glm.fit)"
   ]
  },
  {
   "cell_type": "markdown",
   "metadata": {},
   "source": [
    "#### 5. b) Using the validation set approach, estimate the test error of this model. In order to do this, you must perform the following steps: \n",
    "\n",
    "**1) Split the sample set into a training set and a validation set.**\n",
    "\n",
    "**2) Fit a multiple logistic regression model using only the training observations.**\n",
    "\n",
    "**3) Obtain a prediction of default status for each individual in the validation set by computing the posterior probability of default for that individual, and classifying the individual to the default category if the posterior probability is greater than 0.5.**\n",
    "\n",
    "**4) Compute the validation set error, which is the fraction of the observations in the validation set that are misclassified.**"
   ]
  },
  {
   "cell_type": "code",
   "execution_count": 6,
   "metadata": {},
   "outputs": [
    {
     "data": {
      "text/html": [
       "0.0254"
      ],
      "text/latex": [
       "0.0254"
      ],
      "text/markdown": [
       "0.0254"
      ],
      "text/plain": [
       "[1] 0.0254"
      ]
     },
     "metadata": {},
     "output_type": "display_data"
    }
   ],
   "source": [
    "# because we are going to need to use this approach several times latter on the exercise, we are going to build a function:\n",
    "\n",
    "FiveB = function() {\n",
    "    # 1) sample() function - takes a sample of the specified size from the elements of x using either with or without replacement.\n",
    "    train = sample(dim(Default)[1], dim(Default)[1]/2)\n",
    "    \n",
    "    # 2)\n",
    "    glm.fit = glm(default ~ income + balance, data = Default, family = binomial, \n",
    "        subset = train)\n",
    "    \n",
    "    # 3)\n",
    "    glm.pred = rep(\"No\", dim(Default)[1]/2)\n",
    "    glm.probs = predict(glm.fit, Default[-train, ], type = \"response\")\n",
    "    glm.pred[glm.probs > 0.5] = \"Yes\"\n",
    "    \n",
    "    # 4)\n",
    "    return(mean(glm.pred != Default[-train, ]$default))\n",
    "}\n",
    "set.seed(1)\n",
    "FiveB()"
   ]
  },
  {
   "cell_type": "markdown",
   "metadata": {},
   "source": [
    "**Answer:** There is a 2.54% test error rate from the validation set approach."
   ]
  },
  {
   "cell_type": "markdown",
   "metadata": {},
   "source": [
    "#### 5. c) Repeat the process in (b) three times, using three different splits of the observations into a training set and a validation set. Comment on the results obtained."
   ]
  },
  {
   "cell_type": "code",
   "execution_count": 7,
   "metadata": {},
   "outputs": [
    {
     "data": {
      "text/html": [
       "0.0274"
      ],
      "text/latex": [
       "0.0274"
      ],
      "text/markdown": [
       "0.0274"
      ],
      "text/plain": [
       "[1] 0.0274"
      ]
     },
     "metadata": {},
     "output_type": "display_data"
    },
    {
     "data": {
      "text/html": [
       "0.0244"
      ],
      "text/latex": [
       "0.0244"
      ],
      "text/markdown": [
       "0.0244"
      ],
      "text/plain": [
       "[1] 0.0244"
      ]
     },
     "metadata": {},
     "output_type": "display_data"
    },
    {
     "data": {
      "text/html": [
       "0.0244"
      ],
      "text/latex": [
       "0.0244"
      ],
      "text/markdown": [
       "0.0244"
      ],
      "text/plain": [
       "[1] 0.0244"
      ]
     },
     "metadata": {},
     "output_type": "display_data"
    }
   ],
   "source": [
    "FiveB()\n",
    "FiveB()\n",
    "FiveB()"
   ]
  },
  {
   "cell_type": "markdown",
   "metadata": {},
   "source": [
    "**Answer:** The test error rates seem to average around 2.6%"
   ]
  },
  {
   "cell_type": "markdown",
   "metadata": {},
   "source": [
    "#### 5. d) Now consider a logistic regression model that predicts the probability of default using income, balance, and a dummy variable for student. Estimate the test error for this model using the validation set approach. Comment on whether or not including a dummy variable for student leads to a reduction in the test error rate."
   ]
  },
  {
   "cell_type": "code",
   "execution_count": 10,
   "metadata": {},
   "outputs": [
    {
     "data": {
      "text/html": [
       "0.026"
      ],
      "text/latex": [
       "0.026"
      ],
      "text/markdown": [
       "0.026"
      ],
      "text/plain": [
       "[1] 0.026"
      ]
     },
     "metadata": {},
     "output_type": "display_data"
    }
   ],
   "source": [
    "set.seed(1)\n",
    "\n",
    "# generate our training data\n",
    "train = sample(dim(Default)[1], dim(Default)[1]/2)\n",
    "\n",
    "# run regression on the training data subset\n",
    "glm.fit = glm(default ~ income + balance + student, data = Default, family = binomial, \n",
    "    subset = train)\n",
    "\n",
    "# create dataframe\n",
    "glm.pred = rep(\"No\", dim(Default)[1]/2)\n",
    "\n",
    "# fill with our predictions\n",
    "glm.probs = predict(glm.fit, Default[-train, ], type = \"response\")\n",
    "glm.pred[glm.probs > 0.5] = \"Yes\"\n",
    "\n",
    "# overall fraction of correct predictions\n",
    "mean(glm.pred != Default[-train, ]$default)"
   ]
  },
  {
   "cell_type": "markdown",
   "metadata": {},
   "source": [
    "**Answer:** The test error rate is 2.6% when adding the student dummy variable to our specification. When using the validation set approach, it doesn't appear that adding the dummy variable leads to a reduction in the test error rate."
   ]
  },
  {
   "cell_type": "markdown",
   "metadata": {},
   "source": [
    "## Exercise 6\n",
    "\n",
    "**We continue to consider the use of a logistic regression model to predict the probability of default using income and balance on the Default data set. In particular, we will now compute estimates for the standard errors of the income and balance logistic regression coefficients in two different ways: (1) using the bootstrap, and (2) using the standard formula for computing the standard errors in the glm() function. Do not forget to set a random seed before beginning your analysis.**"
   ]
  },
  {
   "cell_type": "code",
   "execution_count": 11,
   "metadata": {},
   "outputs": [
    {
     "data": {
      "text/plain": [
       " default    student       balance           income     \n",
       " No :9667   No :7056   Min.   :   0.0   Min.   :  772  \n",
       " Yes: 333   Yes:2944   1st Qu.: 481.7   1st Qu.:21340  \n",
       "                       Median : 823.6   Median :34553  \n",
       "                       Mean   : 835.4   Mean   :33517  \n",
       "                       3rd Qu.:1166.3   3rd Qu.:43808  \n",
       "                       Max.   :2654.3   Max.   :73554  "
      ]
     },
     "metadata": {},
     "output_type": "display_data"
    }
   ],
   "source": [
    "# Use summary function to produce a numerical summary for each variable\n",
    "summary(Default)"
   ]
  },
  {
   "cell_type": "markdown",
   "metadata": {},
   "source": [
    "#### 6. a) Using the summary() and glm() functions, determine the estimated standard errors for the coefficients associated with income and balance in a multiple logistic regression model that uses both predictors."
   ]
  },
  {
   "cell_type": "code",
   "execution_count": 12,
   "metadata": {},
   "outputs": [
    {
     "data": {
      "text/plain": [
       "\n",
       "Call:\n",
       "glm(formula = default ~ income + balance, family = binomial, \n",
       "    data = Default)\n",
       "\n",
       "Deviance Residuals: \n",
       "    Min       1Q   Median       3Q      Max  \n",
       "-2.4725  -0.1444  -0.0574  -0.0211   3.7245  \n",
       "\n",
       "Coefficients:\n",
       "              Estimate Std. Error z value Pr(>|z|)    \n",
       "(Intercept) -1.154e+01  4.348e-01 -26.545  < 2e-16 ***\n",
       "income       2.081e-05  4.985e-06   4.174 2.99e-05 ***\n",
       "balance      5.647e-03  2.274e-04  24.836  < 2e-16 ***\n",
       "---\n",
       "Signif. codes:  0 '***' 0.001 '**' 0.01 '*' 0.05 '.' 0.1 ' ' 1\n",
       "\n",
       "(Dispersion parameter for binomial family taken to be 1)\n",
       "\n",
       "    Null deviance: 2920.6  on 9999  degrees of freedom\n",
       "Residual deviance: 1579.0  on 9997  degrees of freedom\n",
       "AIC: 1585\n",
       "\n",
       "Number of Fisher Scoring iterations: 8\n"
      ]
     },
     "metadata": {},
     "output_type": "display_data"
    }
   ],
   "source": [
    "# Same as in 5.a)\n",
    "\n",
    "# Estimate a generalized linear regression model where the third input family is a description of the error distribution \n",
    "# and link function to be used in the model, supplied as the result of a call to a family function - here use binomial.\n",
    "# Why binomial? Because our independent variable default takes two values.\n",
    "glm.fit = glm(default ~ income + balance, data = Default, family = binomial)\n",
    "\n",
    "# Use summary function to print the results\n",
    "summary(glm.fit)"
   ]
  },
  {
   "cell_type": "markdown",
   "metadata": {},
   "source": [
    "#### 6. b) Write a function, boot.fn(), that takes as input the Default data set as well as an index of the observations, and that outputs the coefficient estimates for income and balance in the multiple logistic regression model."
   ]
  },
  {
   "cell_type": "code",
   "execution_count": 13,
   "metadata": {},
   "outputs": [],
   "source": [
    "boot.fn = function(data, index){\n",
    "    return(coef(glm(default ~ income + balance, data = data, family = binomial, subset = index)))\n",
    "}"
   ]
  },
  {
   "cell_type": "markdown",
   "metadata": {},
   "source": [
    "#### 6. c) Use the boot() function together with your boot.fn() function to estimate the standard errors of the logistic regression coefficients for income and balance."
   ]
  },
  {
   "cell_type": "code",
   "execution_count": 14,
   "metadata": {},
   "outputs": [
    {
     "data": {
      "text/plain": [
       "\n",
       "ORDINARY NONPARAMETRIC BOOTSTRAP\n",
       "\n",
       "\n",
       "Call:\n",
       "boot(data = Default, statistic = boot.fn, R = 100)\n",
       "\n",
       "\n",
       "Bootstrap Statistics :\n",
       "         original        bias     std. error\n",
       "t1* -1.154047e+01  8.556378e-03 4.122015e-01\n",
       "t2*  2.080898e-05 -3.993598e-07 4.186088e-06\n",
       "t3*  5.647103e-03 -4.116657e-06 2.226242e-04"
      ]
     },
     "metadata": {},
     "output_type": "display_data"
    }
   ],
   "source": [
    "#Install package boot if needed\n",
    "#install.packages(\"boot\")\n",
    "\n",
    "#call the boot package\n",
    "library(boot)\n",
    "\n",
    "# Set seed\n",
    "set.seed(1)\n",
    "\n",
    "# The boot package provides extensive facilities for bootstrapping and related resampling methods. \n",
    "# You can bootstrap a single statistic (e.g. a median), or a vector (e.g., regression weights).\n",
    "boot(Default, boot.fn, 100)"
   ]
  },
  {
   "cell_type": "markdown",
   "metadata": {},
   "source": [
    "#### 6. d) Comment on the estimated standard errors obtained using the glm() function and using your bootstrap function."
   ]
  },
  {
   "cell_type": "markdown",
   "metadata": {},
   "source": [
    "**Answer:** We obtain a similar std. error estimate for the balance variable (up to 1 decimal) and for the income variable (up to unity). The std errors computed using the bootstrap approach are smaller."
   ]
  },
  {
   "cell_type": "markdown",
   "metadata": {},
   "source": [
    "## Exercise 8\n",
    "**We will now perform cross-validation on a simulated data set.**"
   ]
  },
  {
   "cell_type": "markdown",
   "metadata": {},
   "source": [
    "#### 8. a) Generate a simulated data set as follows. In this data set, what is n and what is p? Write out the model used to generate the data in equation form."
   ]
  },
  {
   "cell_type": "code",
   "execution_count": 15,
   "metadata": {},
   "outputs": [],
   "source": [
    "# set seed for rnorm function\n",
    "set.seed(1)\n",
    "\n",
    "# rnorm simulates random variates having a specified normal distribution, here the standard one\n",
    "y = rnorm(100)\n",
    "x = rnorm(100)\n",
    "y = x - 2 * x^2 + rnorm(100)"
   ]
  },
  {
   "cell_type": "markdown",
   "metadata": {},
   "source": [
    "**Answer:** \n",
    "\n",
    "n=100; \n",
    "\n",
    "p=2; \n",
    "\n",
    "model: $Y_i=X_i-2X_i^2+\\epsilon_i$ \n",
    "\n",
    "$\\epsilon_i \\sim N(0,1), i=1,...,n=100$"
   ]
  },
  {
   "cell_type": "markdown",
   "metadata": {},
   "source": [
    "#### 8 .b) Create a scatterplot of X against Y . Comment on what you find."
   ]
  },
  {
   "cell_type": "code",
   "execution_count": 16,
   "metadata": {},
   "outputs": [
    {
     "data": {
      "image/png": "[encoded data removed]",
      "text/plain": [
       "plot without title"
      ]
     },
     "metadata": {
      "image/png": {
       "height": 420,
       "width": 420
      }
     },
     "output_type": "display_data"
    }
   ],
   "source": [
    "plot(x,y)"
   ]
  },
  {
   "cell_type": "markdown",
   "metadata": {},
   "source": [
    "**Answer:** We can observe a quadratic relationship between $Y$ and $X$. $X$ ranges from about -2 to 2 while $Y$ ranges from about -8 to 2."
   ]
  },
  {
   "cell_type": "markdown",
   "metadata": {},
   "source": [
    "#### 8. c) Set a random seed, and then compute the LOOCV errors that result from fitting the following four models using least squares:"
   ]
  },
  {
   "cell_type": "code",
   "execution_count": 17,
   "metadata": {},
   "outputs": [],
   "source": [
    "# call boot package\n",
    "library(boot)\n",
    "\n",
    "# create data frame with X and Y\n",
    "Data = data.frame(x, y)\n",
    "\n",
    "#set seed\n",
    "set.seed(1)"
   ]
  },
  {
   "cell_type": "markdown",
   "metadata": {},
   "source": [
    "#### 8. c. i) "
   ]
  },
  {
   "cell_type": "markdown",
   "metadata": {},
   "source": [
    "$Y = \\beta_0 +\\beta_1 X + \\epsilon $"
   ]
  },
  {
   "cell_type": "code",
   "execution_count": 18,
   "metadata": {},
   "outputs": [
    {
     "data": {
      "text/html": [
       "<style>\n",
       ".list-inline {list-style: none; margin:0; padding: 0}\n",
       ".list-inline>li {display: inline-block}\n",
       ".list-inline>li:not(:last-child)::after {content: \"\\00b7\"; padding: 0 .5ex}\n",
       "</style>\n",
       "<ol class=list-inline><li>5.89097855988843</li><li>5.88881215196093</li></ol>\n"
      ],
      "text/latex": [
       "\\begin{enumerate*}\n",
       "\\item 5.89097855988843\n",
       "\\item 5.88881215196093\n",
       "\\end{enumerate*}\n"
      ],
      "text/markdown": [
       "1. 5.89097855988843\n",
       "2. 5.88881215196093\n",
       "\n",
       "\n"
      ],
      "text/plain": [
       "[1] 5.890979 5.888812"
      ]
     },
     "metadata": {},
     "output_type": "display_data"
    }
   ],
   "source": [
    "glm.fit = glm(y ~ x)\n",
    "\n",
    "# cv.glm calculates the estimated K-fold cross-validation prediction error for generalized linear models. (K=n by default)\n",
    "# Where delta is a vector of length two. The first component is the raw cross-validation estimate of prediction error. \n",
    "# The second component is the adjusted cross-validation estimate. The adjustment is designed to compensate for the bias.\n",
    "cv.glm(Data, glm.fit)$delta"
   ]
  },
  {
   "cell_type": "markdown",
   "metadata": {},
   "source": [
    "#### 8. c. ii) "
   ]
  },
  {
   "cell_type": "markdown",
   "metadata": {},
   "source": [
    "$Y = \\beta_0 +\\beta_1 X + \\beta_2 X^2 + \\epsilon$"
   ]
  },
  {
   "cell_type": "code",
   "execution_count": 19,
   "metadata": {},
   "outputs": [
    {
     "data": {
      "text/html": [
       "<style>\n",
       ".list-inline {list-style: none; margin:0; padding: 0}\n",
       ".list-inline>li {display: inline-block}\n",
       ".list-inline>li:not(:last-child)::after {content: \"\\00b7\"; padding: 0 .5ex}\n",
       "</style>\n",
       "<ol class=list-inline><li>1.0865955642745</li><li>1.08632580328877</li></ol>\n"
      ],
      "text/latex": [
       "\\begin{enumerate*}\n",
       "\\item 1.0865955642745\n",
       "\\item 1.08632580328877\n",
       "\\end{enumerate*}\n"
      ],
      "text/markdown": [
       "1. 1.0865955642745\n",
       "2. 1.08632580328877\n",
       "\n",
       "\n"
      ],
      "text/plain": [
       "[1] 1.086596 1.086326"
      ]
     },
     "metadata": {},
     "output_type": "display_data"
    }
   ],
   "source": [
    "# poly function - https://www.rdocumentation.org/packages/stats/versions/3.6.2/topics/poly\n",
    "glm.fit = glm(y ~ poly(x, 2, raw=TRUE))\n",
    "cv.glm(Data, glm.fit)$delta"
   ]
  },
  {
   "cell_type": "markdown",
   "metadata": {},
   "source": [
    "#### 8. c. iii) "
   ]
  },
  {
   "cell_type": "markdown",
   "metadata": {},
   "source": [
    "$Y = \\beta_0 +\\beta_1 X + \\beta_2 X^2 + \\beta_3 X^3 + \\epsilon $"
   ]
  },
  {
   "cell_type": "code",
   "execution_count": 20,
   "metadata": {},
   "outputs": [
    {
     "data": {
      "text/html": [
       "<style>\n",
       ".list-inline {list-style: none; margin:0; padding: 0}\n",
       ".list-inline>li {display: inline-block}\n",
       ".list-inline>li:not(:last-child)::after {content: \"\\00b7\"; padding: 0 .5ex}\n",
       "</style>\n",
       "<ol class=list-inline><li>1.10258509387339</li><li>1.10222658385953</li></ol>\n"
      ],
      "text/latex": [
       "\\begin{enumerate*}\n",
       "\\item 1.10258509387339\n",
       "\\item 1.10222658385953\n",
       "\\end{enumerate*}\n"
      ],
      "text/markdown": [
       "1. 1.10258509387339\n",
       "2. 1.10222658385953\n",
       "\n",
       "\n"
      ],
      "text/plain": [
       "[1] 1.102585 1.102227"
      ]
     },
     "metadata": {},
     "output_type": "display_data"
    }
   ],
   "source": [
    "glm.fit = glm(y ~ poly(x, 3, raw=TRUE))\n",
    "cv.glm(Data, glm.fit)$delta"
   ]
  },
  {
   "cell_type": "markdown",
   "metadata": {},
   "source": [
    "#### 8. c. iv) "
   ]
  },
  {
   "cell_type": "markdown",
   "metadata": {},
   "source": [
    "$Y = \\beta_0 +\\beta_1 X + \\beta_2 X^2 + \\beta_3 X^3 + \\beta_4 X^4 + \\epsilon $"
   ]
  },
  {
   "cell_type": "code",
   "execution_count": 21,
   "metadata": {},
   "outputs": [
    {
     "data": {
      "text/html": [
       "<style>\n",
       ".list-inline {list-style: none; margin:0; padding: 0}\n",
       ".list-inline>li {display: inline-block}\n",
       ".list-inline>li:not(:last-child)::after {content: \"\\00b7\"; padding: 0 .5ex}\n",
       "</style>\n",
       "<ol class=list-inline><li>1.11477226814507</li><li>1.11433406148513</li></ol>\n"
      ],
      "text/latex": [
       "\\begin{enumerate*}\n",
       "\\item 1.11477226814507\n",
       "\\item 1.11433406148513\n",
       "\\end{enumerate*}\n"
      ],
      "text/markdown": [
       "1. 1.11477226814507\n",
       "2. 1.11433406148513\n",
       "\n",
       "\n"
      ],
      "text/plain": [
       "[1] 1.114772 1.114334"
      ]
     },
     "metadata": {},
     "output_type": "display_data"
    }
   ],
   "source": [
    "glm.fit = glm(y ~ poly(x, 4, raw=TRUE))\n",
    "cv.glm(Data, glm.fit)$delta"
   ]
  },
  {
   "cell_type": "markdown",
   "metadata": {},
   "source": [
    "#### 8. d) Repeat (c) using another random seed, and report your results. Are your results the same as what you got in (c)? Why?"
   ]
  },
  {
   "cell_type": "code",
   "execution_count": 22,
   "metadata": {},
   "outputs": [
    {
     "data": {
      "text/html": [
       "<style>\n",
       ".list-inline {list-style: none; margin:0; padding: 0}\n",
       ".list-inline>li {display: inline-block}\n",
       ".list-inline>li:not(:last-child)::after {content: \"\\00b7\"; padding: 0 .5ex}\n",
       "</style>\n",
       "<ol class=list-inline><li>5.89097855988842</li><li>5.88881215196093</li></ol>\n"
      ],
      "text/latex": [
       "\\begin{enumerate*}\n",
       "\\item 5.89097855988842\n",
       "\\item 5.88881215196093\n",
       "\\end{enumerate*}\n"
      ],
      "text/markdown": [
       "1. 5.89097855988842\n",
       "2. 5.88881215196093\n",
       "\n",
       "\n"
      ],
      "text/plain": [
       "[1] 5.890979 5.888812"
      ]
     },
     "metadata": {},
     "output_type": "display_data"
    },
    {
     "data": {
      "text/html": [
       "<style>\n",
       ".list-inline {list-style: none; margin:0; padding: 0}\n",
       ".list-inline>li {display: inline-block}\n",
       ".list-inline>li:not(:last-child)::after {content: \"\\00b7\"; padding: 0 .5ex}\n",
       "</style>\n",
       "<ol class=list-inline><li>1.0865955642745</li><li>1.08632580328877</li></ol>\n"
      ],
      "text/latex": [
       "\\begin{enumerate*}\n",
       "\\item 1.0865955642745\n",
       "\\item 1.08632580328877\n",
       "\\end{enumerate*}\n"
      ],
      "text/markdown": [
       "1. 1.0865955642745\n",
       "2. 1.08632580328877\n",
       "\n",
       "\n"
      ],
      "text/plain": [
       "[1] 1.086596 1.086326"
      ]
     },
     "metadata": {},
     "output_type": "display_data"
    },
    {
     "data": {
      "text/html": [
       "<style>\n",
       ".list-inline {list-style: none; margin:0; padding: 0}\n",
       ".list-inline>li {display: inline-block}\n",
       ".list-inline>li:not(:last-child)::after {content: \"\\00b7\"; padding: 0 .5ex}\n",
       "</style>\n",
       "<ol class=list-inline><li>1.10258509387339</li><li>1.10222658385953</li></ol>\n"
      ],
      "text/latex": [
       "\\begin{enumerate*}\n",
       "\\item 1.10258509387339\n",
       "\\item 1.10222658385953\n",
       "\\end{enumerate*}\n"
      ],
      "text/markdown": [
       "1. 1.10258509387339\n",
       "2. 1.10222658385953\n",
       "\n",
       "\n"
      ],
      "text/plain": [
       "[1] 1.102585 1.102227"
      ]
     },
     "metadata": {},
     "output_type": "display_data"
    },
    {
     "data": {
      "text/html": [
       "<style>\n",
       ".list-inline {list-style: none; margin:0; padding: 0}\n",
       ".list-inline>li {display: inline-block}\n",
       ".list-inline>li:not(:last-child)::after {content: \"\\00b7\"; padding: 0 .5ex}\n",
       "</style>\n",
       "<ol class=list-inline><li>1.11477226814507</li><li>1.11433406148513</li></ol>\n"
      ],
      "text/latex": [
       "\\begin{enumerate*}\n",
       "\\item 1.11477226814507\n",
       "\\item 1.11433406148513\n",
       "\\end{enumerate*}\n"
      ],
      "text/markdown": [
       "1. 1.11477226814507\n",
       "2. 1.11433406148513\n",
       "\n",
       "\n"
      ],
      "text/plain": [
       "[1] 1.114772 1.114334"
      ]
     },
     "metadata": {},
     "output_type": "display_data"
    }
   ],
   "source": [
    "set.seed(10)\n",
    "# i.\n",
    "glm.fit1 = glm(y ~ x)\n",
    "cv.glm(Data, glm.fit1)$delta\n",
    "# ii.\n",
    "glm.fit2 = glm(y ~ poly(x, 2, raw=TRUE))\n",
    "cv.glm(Data, glm.fit2)$delta\n",
    "# iii.\n",
    "glm.fit3 = glm(y ~ poly(x, 3, raw=TRUE))\n",
    "cv.glm(Data, glm.fit3)$delta\n",
    "# iv.\n",
    "glm.fit4 = glm(y ~ poly(x, 4, raw=TRUE))\n",
    "cv.glm(Data, glm.fit4)$delta"
   ]
  },
  {
   "cell_type": "markdown",
   "metadata": {},
   "source": [
    "**Answer:** The results are exactly the same, because LOOCV will be the same since it evaluates n folds of a single observation."
   ]
  },
  {
   "cell_type": "markdown",
   "metadata": {},
   "source": [
    "#### 8. e) Which of the models in (c) had the smallest LOOCV error? Is this what you expected? Explain your answer."
   ]
  },
  {
   "cell_type": "markdown",
   "metadata": {},
   "source": [
    "**Answer:** The quadratic polynomial had the lowest LOOCV test error rate. This was expected because it matches the true form of $Y$."
   ]
  },
  {
   "cell_type": "markdown",
   "metadata": {},
   "source": [
    "#### 8. f) Comment on the statistical significance of the coefficient estimates that results from fitting each of the models in (c) using least squares. Do these results agree with the conclusions drawn based on the cross-validation results?"
   ]
  },
  {
   "cell_type": "code",
   "execution_count": 23,
   "metadata": {},
   "outputs": [
    {
     "data": {
      "text/plain": [
       "\n",
       "Call:\n",
       "glm(formula = y ~ x)\n",
       "\n",
       "Deviance Residuals: \n",
       "    Min       1Q   Median       3Q      Max  \n",
       "-7.3469  -0.9275   0.8028   1.5608   4.3974  \n",
       "\n",
       "Coefficients:\n",
       "            Estimate Std. Error t value Pr(>|t|)    \n",
       "(Intercept)  -1.8185     0.2364  -7.692 1.14e-11 ***\n",
       "x             0.2430     0.2479   0.981    0.329    \n",
       "---\n",
       "Signif. codes:  0 '***' 0.001 '**' 0.01 '*' 0.05 '.' 0.1 ' ' 1\n",
       "\n",
       "(Dispersion parameter for gaussian family taken to be 5.580018)\n",
       "\n",
       "    Null deviance: 552.21  on 99  degrees of freedom\n",
       "Residual deviance: 546.84  on 98  degrees of freedom\n",
       "AIC: 459.69\n",
       "\n",
       "Number of Fisher Scoring iterations: 2\n"
      ]
     },
     "metadata": {},
     "output_type": "display_data"
    }
   ],
   "source": [
    "summary(glm.fit1)"
   ]
  },
  {
   "cell_type": "code",
   "execution_count": 24,
   "metadata": {},
   "outputs": [
    {
     "data": {
      "text/plain": [
       "\n",
       "Call:\n",
       "glm(formula = y ~ poly(x, 2, raw = TRUE))\n",
       "\n",
       "Deviance Residuals: \n",
       "     Min        1Q    Median        3Q       Max  \n",
       "-2.89884  -0.53765   0.04135   0.61490   2.73607  \n",
       "\n",
       "Coefficients:\n",
       "                        Estimate Std. Error t value Pr(>|t|)    \n",
       "(Intercept)             -0.09544    0.13345  -0.715    0.476    \n",
       "poly(x, 2, raw = TRUE)1  0.89961    0.11300   7.961 3.24e-12 ***\n",
       "poly(x, 2, raw = TRUE)2 -1.86665    0.09151 -20.399  < 2e-16 ***\n",
       "---\n",
       "Signif. codes:  0 '***' 0.001 '**' 0.01 '*' 0.05 '.' 0.1 ' ' 1\n",
       "\n",
       "(Dispersion parameter for gaussian family taken to be 1.06575)\n",
       "\n",
       "    Null deviance: 552.21  on 99  degrees of freedom\n",
       "Residual deviance: 103.38  on 97  degrees of freedom\n",
       "AIC: 295.11\n",
       "\n",
       "Number of Fisher Scoring iterations: 2\n"
      ]
     },
     "metadata": {},
     "output_type": "display_data"
    }
   ],
   "source": [
    "summary(glm.fit2)"
   ]
  },
  {
   "cell_type": "code",
   "execution_count": 25,
   "metadata": {},
   "outputs": [
    {
     "data": {
      "text/plain": [
       "\n",
       "Call:\n",
       "glm(formula = y ~ poly(x, 3, raw = TRUE))\n",
       "\n",
       "Deviance Residuals: \n",
       "     Min        1Q    Median        3Q       Max  \n",
       "-2.87250  -0.53881   0.02862   0.59383   2.74350  \n",
       "\n",
       "Coefficients:\n",
       "                        Estimate Std. Error t value Pr(>|t|)    \n",
       "(Intercept)             -0.09865    0.13453  -0.733    0.465    \n",
       "poly(x, 3, raw = TRUE)1  0.95551    0.22150   4.314  3.9e-05 ***\n",
       "poly(x, 3, raw = TRUE)2 -1.85303    0.10296 -17.998  < 2e-16 ***\n",
       "poly(x, 3, raw = TRUE)3 -0.02479    0.08435  -0.294    0.769    \n",
       "---\n",
       "Signif. codes:  0 '***' 0.001 '**' 0.01 '*' 0.05 '.' 0.1 ' ' 1\n",
       "\n",
       "(Dispersion parameter for gaussian family taken to be 1.075883)\n",
       "\n",
       "    Null deviance: 552.21  on 99  degrees of freedom\n",
       "Residual deviance: 103.28  on 96  degrees of freedom\n",
       "AIC: 297.02\n",
       "\n",
       "Number of Fisher Scoring iterations: 2\n"
      ]
     },
     "metadata": {},
     "output_type": "display_data"
    }
   ],
   "source": [
    "summary(glm.fit3)"
   ]
  },
  {
   "cell_type": "code",
   "execution_count": 26,
   "metadata": {},
   "outputs": [
    {
     "data": {
      "text/plain": [
       "\n",
       "Call:\n",
       "glm(formula = y ~ poly(x, 4, raw = TRUE))\n",
       "\n",
       "Deviance Residuals: \n",
       "    Min       1Q   Median       3Q      Max  \n",
       "-2.8914  -0.5244   0.0749   0.5932   2.7796  \n",
       "\n",
       "Coefficients:\n",
       "                        Estimate Std. Error t value Pr(>|t|)    \n",
       "(Intercept)             -0.13897    0.15973  -0.870 0.386455    \n",
       "poly(x, 4, raw = TRUE)1  0.90980    0.24249   3.752 0.000302 ***\n",
       "poly(x, 4, raw = TRUE)2 -1.72802    0.28379  -6.089  2.4e-08 ***\n",
       "poly(x, 4, raw = TRUE)3  0.00715    0.10832   0.066 0.947510    \n",
       "poly(x, 4, raw = TRUE)4 -0.03807    0.08049  -0.473 0.637291    \n",
       "---\n",
       "Signif. codes:  0 '***' 0.001 '**' 0.01 '*' 0.05 '.' 0.1 ' ' 1\n",
       "\n",
       "(Dispersion parameter for gaussian family taken to be 1.084654)\n",
       "\n",
       "    Null deviance: 552.21  on 99  degrees of freedom\n",
       "Residual deviance: 103.04  on 95  degrees of freedom\n",
       "AIC: 298.78\n",
       "\n",
       "Number of Fisher Scoring iterations: 2\n"
      ]
     },
     "metadata": {},
     "output_type": "display_data"
    }
   ],
   "source": [
    "summary(glm.fit4)"
   ]
  },
  {
   "cell_type": "markdown",
   "metadata": {},
   "source": [
    "**Answer:** p-values show statistical significance of linear and quadratic terms, which agrees with the CV results."
   ]
  }
 ],
 "metadata": {
  "kernelspec": {
   "display_name": "R",
   "language": "R",
   "name": "ir"
  },
  "language_info": {
   "codemirror_mode": "r",
   "file_extension": ".r",
   "mimetype": "text/x-r-source",
   "name": "R",
   "pygments_lexer": "r",
   "version": "3.6.1"
  }
 },
 "nbformat": 4,
 "nbformat_minor": 2
}
