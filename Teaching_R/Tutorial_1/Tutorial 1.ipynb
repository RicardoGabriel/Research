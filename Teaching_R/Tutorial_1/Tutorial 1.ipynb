{
 "cells": [
  {
   "cell_type": "markdown",
   "metadata": {},
   "source": [
    "# ISLR Chapter 2"
   ]
  },
  {
   "cell_type": "markdown",
   "metadata": {},
   "source": [
    "## Exercise 7:\n",
    "\n",
    "The table below provides a training data set containing six observations, three predictors, and one qualitative response variable. Suppose we wish to use this data set to make a prediction for Y when X1 = X2 = X3 = 0 using K-nearest neighbors."
   ]
  },
  {
   "cell_type": "markdown",
   "metadata": {},
   "source": [
    "| Obs. | X1 | X2 | X3 |   Y   |\n",
    "|:----:|:--:|:--:|:--:|:-----:|\n",
    "|   1  |  0 |  3 |  0 |  Red  |\n",
    "|   2  |  2 |  0 |  0 |  Red  |\n",
    "|   3  |  0 |  1 |  3 |  Red  |\n",
    "|   4  |  0 |  1 |  2 | Green |\n",
    "|   5  | −1 |  0 |  1 | Green |\n",
    "|   6  |  1 |  1 |  1 |  Red  |"
   ]
  },
  {
   "cell_type": "markdown",
   "metadata": {},
   "source": [
    "#### 7. a) Compute the Euclidean distance between each observation and the test point, X1 = X2 = X3 = 0."
   ]
  },
  {
   "cell_type": "code",
   "execution_count": 42,
   "metadata": {},
   "outputs": [
    {
     "name": "stdout",
     "output_type": "stream",
     "text": [
      "         obs1 obs2     obs3     obs4     obs5     obs6\n",
      "Distance    3    2 3.162278 2.236068 1.414214 1.732051\n"
     ]
    }
   ],
   "source": [
    "# Observations\n",
    "obs1 <- c(0, 3, 0)\n",
    "obs2 <- c(2, 0, 0)\n",
    "obs3 <- c(0, 1, 3)\n",
    "obs4 <- c(0, 1, 2)\n",
    "obs5 <- c(-1, 0, 1)\n",
    "obs6 <- c(1, 1, 1)\n",
    "\n",
    "# Test Point\n",
    "obs0 <- c(0, 0, 0)\n",
    "\n",
    "# Create a Matrix x to store the results\n",
    "x <- matrix( , nrow = 1, ncol = 6, dimnames = list(c(\"Distance\"), c(\"obs1\",\"obs2\",\"obs3\",\"obs4\",\"obs5\",\"obs6\")))\n",
    "\n",
    "# Compute and store the Euclidean distances\n",
    "x[1,1] <- (dist1 <- sqrt(sum((obs1-obs0)^2)) )\n",
    "x[1,2] <- (dist2 <- sqrt(sum((obs2-obs0)^2)) )\n",
    "x[1,3] <- (dist3 <- sqrt(sum((obs3-obs0)^2)) )\n",
    "x[1,4] <- (dist4 <- sqrt(sum((obs4-obs0)^2)) )\n",
    "x[1,5] <- (dist5 <- sqrt(sum((obs5-obs0)^2)) )\n",
    "x[1,6] <- (dist6 <- sqrt(sum((obs6-obs0)^2)) )\n",
    "\n",
    "# Print the results\n",
    "print(x)\n",
    "# x"
   ]
  },
  {
   "cell_type": "markdown",
   "metadata": {},
   "source": [
    "#### 7. b) What is our prediction with K = 1? Why?\n",
    "\n",
    "Closest 1 neighbor is obs5 and thus, our prediction is Green because it is the Y value associated to obs5."
   ]
  },
  {
   "cell_type": "markdown",
   "metadata": {},
   "source": [
    "#### 7. c) What is our prediction with K = 3? Why?\n",
    "\n",
    "Closest 3 neighbors are obs5, obs6, obs2 and thus, our prediction is Red because it is the Y value associated to obs2 and obs6.\n"
   ]
  },
  {
   "cell_type": "markdown",
   "metadata": {},
   "source": [
    "#### 7. d) If the Bayes decision boundary in this problem is highly nonlinear, then would we expect the best value for K to be large or small? Why?\n",
    "A large value of K means that the Y-values from a large neighborhood are contributing to the prediction at one chosen X-point. This requires that the neighborhood consists of relatively similar Y-values. However, in the case of a highly nonlinear decision boundary, the neighborhoods of similar Y-values become generally small. Therefore, also K must be chosen relatively small so that we can capture more of the non-linear decision boundary. "
   ]
  },
  {
   "cell_type": "markdown",
   "metadata": {},
   "source": [
    "## Exercise 8:\n",
    "\n",
    "This exercise relates to the College data set, which can be found in the file College.csv. It contains a number of variables for 777 different universities and colleges in the US. The variables are:\n",
    "\n",
    "* **Private** : Public/private indicator\n",
    "* **Apps** : Number of applications received\n",
    "* **Accept** : Number of applicants accepted\n",
    "* **Enroll** : Number of new students enrolled\n",
    "* **Top10perc** : New students from top 10% of high school class\n",
    "* **Top25perc** : New students from top 25% of high school class\n",
    "* **F.Undergrad** : Number of full-time undergraduates\n",
    "* **P.Undergrad** : Number of part-time undergraduates\n",
    "* **Outstate** : Out-of-state tuition\n",
    "* **Room.Board** : Room and board costs\n",
    "* **Books** : Estimated book costs\n",
    "* **Personal** : Estimated personal spending\n",
    "* **PhD** : Percent of faculty with Ph.D.’s\n",
    "* **Terminal** : Percent of faculty with terminal degree\n",
    "* **S.F.Ratio** : Student/faculty ratio\n",
    "* **perc.alumni** : Percent of alumni who donate\n",
    "* **Expend** : Instructional expenditure per student\n",
    "* **Grad.Rate** : Graduation rate"
   ]
  },
  {
   "cell_type": "markdown",
   "metadata": {},
   "source": [
    "#### 8. a) Use the read.csv() function to read the data into R. Call the loaded data college. Make sure that you have the directory set to the correct location for the data."
   ]
  },
  {
   "cell_type": "code",
   "execution_count": 43,
   "metadata": {},
   "outputs": [
    {
     "name": "stdout",
     "output_type": "stream",
     "text": [
      "                              X Private Apps Accept Enroll\n",
      "1  Abilene Christian University     Yes 1660   1232    721\n",
      "2            Adelphi University     Yes 2186   1924    512\n",
      "3                Adrian College     Yes 1428   1097    336\n",
      "4           Agnes Scott College     Yes  417    349    137\n",
      "5     Alaska Pacific University     Yes  193    146     55\n",
      "6             Albertson College     Yes  587    479    158\n",
      "7       Albertus Magnus College     Yes  353    340    103\n",
      "8                Albion College     Yes 1899   1720    489\n",
      "9              Albright College     Yes 1038    839    227\n",
      "10    Alderson-Broaddus College     Yes  582    498    172\n"
     ]
    }
   ],
   "source": [
    "# Store data into dataframe college\n",
    "college <- read.csv(\"College.csv\")\n",
    "\n",
    "# Print first 10 rows and 5 collumns of the data\n",
    "print(college[c(1:10),c(1:5)])"
   ]
  },
  {
   "cell_type": "markdown",
   "metadata": {},
   "source": [
    "#### 8. b) Look at the data using the fix() function. \n",
    "\n",
    "You should notice that the first column is just the name of each university.We don’t really want R to treat this as data. However, it may be handy to have these names for later. Try the following commands: "
   ]
  },
  {
   "cell_type": "code",
   "execution_count": 44,
   "metadata": {},
   "outputs": [],
   "source": [
    "# Store rownames\n",
    "rownames(college)=college[,1]\n",
    "\n",
    "# pops up a window for data visualization\n",
    "fix(college)"
   ]
  },
  {
   "cell_type": "markdown",
   "metadata": {},
   "source": [
    "You should see that there is now a row.names column with the name of each university recorded. This means that R has given each row a name corresponding to the appropriate university. R will not try to perform calculations on the row names. However, we still need to eliminate the first column in the data where the names are stored. Try:"
   ]
  },
  {
   "cell_type": "code",
   "execution_count": 45,
   "metadata": {},
   "outputs": [],
   "source": [
    "# ELiminates first collumn\n",
    "college = college[,-1]\n",
    "\n",
    "fix(college)"
   ]
  },
  {
   "cell_type": "markdown",
   "metadata": {},
   "source": [
    "Now you should see that the first data column is Private. Note that another column labeled row.names now appears before the Private column. However, this is not a data column but rather the name that R is giving to each row."
   ]
  },
  {
   "cell_type": "markdown",
   "metadata": {},
   "source": [
    "#### 8. c. i) Use the summary() function to produce a numerical summary of the variables in the data set."
   ]
  },
  {
   "cell_type": "code",
   "execution_count": 46,
   "metadata": {},
   "outputs": [
    {
     "data": {
      "text/plain": [
       " Private        Apps           Accept          Enroll       Top10perc    \n",
       " No :212   Min.   :   81   Min.   :   72   Min.   :  35   Min.   : 1.00  \n",
       " Yes:565   1st Qu.:  776   1st Qu.:  604   1st Qu.: 242   1st Qu.:15.00  \n",
       "           Median : 1558   Median : 1110   Median : 434   Median :23.00  \n",
       "           Mean   : 3002   Mean   : 2019   Mean   : 780   Mean   :27.56  \n",
       "           3rd Qu.: 3624   3rd Qu.: 2424   3rd Qu.: 902   3rd Qu.:35.00  \n",
       "           Max.   :48094   Max.   :26330   Max.   :6392   Max.   :96.00  "
      ]
     },
     "metadata": {},
     "output_type": "display_data"
    }
   ],
   "source": [
    "summary(college[ , 1:5])"
   ]
  },
  {
   "cell_type": "markdown",
   "metadata": {},
   "source": [
    "#### 8. c. ii) Use the pairs() function to produce a scatterplot matrix of the first ten columns or variables of the data. Recall that you can reference the first ten columns of a matrix A using A[,1:10]."
   ]
  },
  {
   "cell_type": "code",
   "execution_count": 47,
   "metadata": {},
   "outputs": [
    {
     "data": {
      "image/png": "[encoded data removed]",
      "text/plain": [
       "plot without title"
      ]
     },
     "metadata": {
      "image/png": {
       "height": 420,
       "width": 420
      }
     },
     "output_type": "display_data"
    }
   ],
   "source": [
    "pairs(college[,1:10])"
   ]
  },
  {
   "cell_type": "markdown",
   "metadata": {},
   "source": [
    "#### 8. c. iii) Use the plot() function to produce side-by-side boxplots of Outstate versus Private."
   ]
  },
  {
   "cell_type": "code",
   "execution_count": 48,
   "metadata": {},
   "outputs": [
    {
     "data": {
      "image/png": "[encoded data removed]",
      "text/plain": [
       "plot without title"
      ]
     },
     "metadata": {
      "image/png": {
       "height": 420,
       "width": 420
      }
     },
     "output_type": "display_data"
    }
   ],
   "source": [
    "boxplot(Outstate~Private, data=college, xlab=\"Private\", ylab=\"Outstate\")"
   ]
  },
  {
   "cell_type": "markdown",
   "metadata": {},
   "source": [
    "#### 8. c. iv) Create a new qualitative variable, called Elite, by binning the Top10perc variable. \n",
    "We are going to divide universities into two groups based on whether or not the proportion of students coming from the top 10% of their high school classes exceeds 50%."
   ]
  },
  {
   "cell_type": "code",
   "execution_count": 49,
   "metadata": {},
   "outputs": [],
   "source": [
    "# Creating a vector called ELite with only \"No\" entrances amounting the number of college rows\n",
    "Elite=rep(\"No\",nrow(college))\n",
    "\n",
    "# Replacing \"No\" with \"Yes\" if the proportion of students coming from the top 10% of their HS classes exceeds 50%.\n",
    "Elite[college$Top10perc>50]=\"Yes\"\n",
    "\n",
    "# Encode a vector as a factor\n",
    "Elite=as.factor(Elite)\n",
    "\n",
    "# Add Elite variable to our current dataset \"college\"\n",
    "college=data.frame(college ,Elite)"
   ]
  },
  {
   "cell_type": "markdown",
   "metadata": {},
   "source": [
    "Use the summary() function to see how many elite universities there are."
   ]
  },
  {
   "cell_type": "code",
   "execution_count": 50,
   "metadata": {},
   "outputs": [
    {
     "data": {
      "text/html": [
       "<style>\n",
       ".dl-inline {width: auto; margin:0; padding: 0}\n",
       ".dl-inline>dt, .dl-inline>dd {float: none; width: auto; display: inline-block}\n",
       ".dl-inline>dt::after {content: \":\\0020\"; padding-right: .5ex}\n",
       ".dl-inline>dt:not(:first-of-type) {padding-left: .5ex}\n",
       "</style><dl class=dl-inline><dt>No</dt><dd>699</dd><dt>Yes</dt><dd>78</dd></dl>\n"
      ],
      "text/latex": [
       "\\begin{description*}\n",
       "\\item[No] 699\n",
       "\\item[Yes] 78\n",
       "\\end{description*}\n"
      ],
      "text/markdown": [
       "No\n",
       ":   699Yes\n",
       ":   78\n",
       "\n"
      ],
      "text/plain": [
       " No Yes \n",
       "699  78 "
      ]
     },
     "metadata": {},
     "output_type": "display_data"
    }
   ],
   "source": [
    "summary(college$Elite)"
   ]
  },
  {
   "cell_type": "markdown",
   "metadata": {},
   "source": [
    "Now use the plot() function to produce side-by-side boxplots of Outstate versus Elite."
   ]
  },
  {
   "cell_type": "code",
   "execution_count": 51,
   "metadata": {
    "scrolled": false
   },
   "outputs": [
    {
     "data": {
      "image/png": "[encoded data removed]",
      "text/plain": [
       "plot without title"
      ]
     },
     "metadata": {
      "image/png": {
       "height": 420,
       "width": 420
      }
     },
     "output_type": "display_data"
    }
   ],
   "source": [
    "boxplot(Outstate~Elite, data=college, xlab=\"Elite\", ylab=\"Outstate\")"
   ]
  },
  {
   "cell_type": "markdown",
   "metadata": {},
   "source": [
    "#### 8. c. v) Use the hist() function to produce some histograms with differing numbers of bins for a few of the quantitative variables.\n",
    "You may find the command par(mfrow=c(2,2)) useful: it will divide the print window into four regions so that four plots can be made simultaneously. Modifying the arguments to this function will divide the screen in other ways."
   ]
  },
  {
   "cell_type": "code",
   "execution_count": 52,
   "metadata": {},
   "outputs": [
    {
     "data": {
      "image/png": "[encoded data removed]",
      "text/plain": [
       "Plot with title \"Outstate\""
      ]
     },
     "metadata": {
      "image/png": {
       "height": 420,
       "width": 420
      }
     },
     "output_type": "display_data"
    }
   ],
   "source": [
    "par(mfrow=c(2,2))\n",
    "hist(college$Apps, breaks=50, xlim=c(0,25000), main=\"Apps\")\n",
    "hist(college$Enroll, breaks=25, main=\"Enroll\")\n",
    "hist(college$Expend, breaks=25, main=\"Expend\")\n",
    "hist(college$Outstate, main=\"Outstate\")"
   ]
  },
  {
   "cell_type": "markdown",
   "metadata": {},
   "source": [
    "## Exercise 9:\n",
    "\n",
    "This exercise involves the Auto data set. Make sure that the missing values have been removed from the data."
   ]
  },
  {
   "cell_type": "code",
   "execution_count": 53,
   "metadata": {},
   "outputs": [
    {
     "name": "stdout",
     "output_type": "stream",
     "text": [
      "   mpg cylinders displacement horsepower weight acceleration year origin\n",
      "1   18         8          307        130   3504         12.0   70      1\n",
      "2   15         8          350        165   3693         11.5   70      1\n",
      "3   18         8          318        150   3436         11.0   70      1\n",
      "4   16         8          304        150   3433         12.0   70      1\n",
      "5   17         8          302        140   3449         10.5   70      1\n",
      "6   15         8          429        198   4341         10.0   70      1\n",
      "7   14         8          454        220   4354          9.0   70      1\n",
      "8   14         8          440        215   4312          8.5   70      1\n",
      "9   14         8          455        225   4425         10.0   70      1\n",
      "10  15         8          390        190   3850          8.5   70      1\n",
      "                        name\n",
      "1  chevrolet chevelle malibu\n",
      "2          buick skylark 320\n",
      "3         plymouth satellite\n",
      "4              amc rebel sst\n",
      "5                ford torino\n",
      "6           ford galaxie 500\n",
      "7           chevrolet impala\n",
      "8          plymouth fury iii\n",
      "9           pontiac catalina\n",
      "10        amc ambassador dpl\n"
     ]
    }
   ],
   "source": [
    "# Store data into dataframe college\n",
    "Auto <- read.csv(\"Auto.csv\", header=T, na.strings=\"?\")\n",
    "\n",
    "# Remove missing values from the data\n",
    "Auto = na.omit(Auto)\n",
    "\n",
    "# Print first 10 rows of the data\n",
    "print(Auto[c(1:10),])\n",
    "\n",
    "# more info on the variables https://rstudio-pubs-static.s3.amazonaws.com/61800_faea93548c6b49cc91cd0c5ef5059894.html"
   ]
  },
  {
   "cell_type": "markdown",
   "metadata": {},
   "source": [
    "#### 9. a) Which of the predictors are quantitative, and which are qualitative?"
   ]
  },
  {
   "cell_type": "code",
   "execution_count": 54,
   "metadata": {},
   "outputs": [
    {
     "data": {
      "text/plain": [
       "      mpg          cylinders      displacement     horsepower        weight    \n",
       " Min.   : 9.00   Min.   :3.000   Min.   : 68.0   Min.   : 46.0   Min.   :1613  \n",
       " 1st Qu.:17.00   1st Qu.:4.000   1st Qu.:105.0   1st Qu.: 75.0   1st Qu.:2225  \n",
       " Median :22.75   Median :4.000   Median :151.0   Median : 93.5   Median :2804  \n",
       " Mean   :23.45   Mean   :5.472   Mean   :194.4   Mean   :104.5   Mean   :2978  \n",
       " 3rd Qu.:29.00   3rd Qu.:8.000   3rd Qu.:275.8   3rd Qu.:126.0   3rd Qu.:3615  \n",
       " Max.   :46.60   Max.   :8.000   Max.   :455.0   Max.   :230.0   Max.   :5140  \n",
       "                                                                               \n",
       "  acceleration        year           origin                      name    \n",
       " Min.   : 8.00   Min.   :70.00   Min.   :1.000   amc matador       :  5  \n",
       " 1st Qu.:13.78   1st Qu.:73.00   1st Qu.:1.000   ford pinto        :  5  \n",
       " Median :15.50   Median :76.00   Median :1.000   toyota corolla    :  5  \n",
       " Mean   :15.54   Mean   :75.98   Mean   :1.577   amc gremlin       :  4  \n",
       " 3rd Qu.:17.02   3rd Qu.:79.00   3rd Qu.:2.000   amc hornet        :  4  \n",
       " Max.   :24.80   Max.   :82.00   Max.   :3.000   chevrolet chevette:  4  \n",
       "                                                 (Other)           :365  "
      ]
     },
     "metadata": {},
     "output_type": "display_data"
    }
   ],
   "source": [
    "# Summarize dataset\n",
    "summary(Auto)"
   ]
  },
  {
   "cell_type": "markdown",
   "metadata": {},
   "source": [
    "**Quantitative predictors:** mpg, cylinders, displacement, horsepower, weight, acceleration, year\n",
    "**Qualitative predictors:** name, origin"
   ]
  },
  {
   "cell_type": "markdown",
   "metadata": {},
   "source": [
    "#### 9. b) What is the range of each quantitative predictor? You can answer this using the range() function."
   ]
  },
  {
   "cell_type": "code",
   "execution_count": 55,
   "metadata": {},
   "outputs": [
    {
     "name": "stdout",
     "output_type": "stream",
     "text": [
      "      mpg cylinders displacement horsepower weight acceleration year\n",
      "[1,]  9.0         3           68         46   1613          8.0   70\n",
      "[2,] 46.6         8          455        230   5140         24.8   82\n"
     ]
    }
   ],
   "source": [
    "# apply the range function to the first seven columns of Auto\n",
    "c <- sapply(Auto[, 1:7], range)\n",
    "\n",
    "# print\n",
    "print(c)\n",
    "# c"
   ]
  },
  {
   "cell_type": "markdown",
   "metadata": {},
   "source": [
    "#### 9. c) What is the mean and standard deviation of each quantitative predictor?"
   ]
  },
  {
   "cell_type": "code",
   "execution_count": 56,
   "metadata": {},
   "outputs": [
    {
     "data": {
      "text/html": [
       "<style>\n",
       ".dl-inline {width: auto; margin:0; padding: 0}\n",
       ".dl-inline>dt, .dl-inline>dd {float: none; width: auto; display: inline-block}\n",
       ".dl-inline>dt::after {content: \":\\0020\"; padding-right: .5ex}\n",
       ".dl-inline>dt:not(:first-of-type) {padding-left: .5ex}\n",
       "</style><dl class=dl-inline><dt>mpg</dt><dd>23.45</dd><dt>cylinders</dt><dd>5.47</dd><dt>displacement</dt><dd>194.41</dd><dt>horsepower</dt><dd>104.47</dd><dt>weight</dt><dd>2977.58</dd><dt>acceleration</dt><dd>15.54</dd><dt>year</dt><dd>75.98</dd></dl>\n"
      ],
      "text/latex": [
       "\\begin{description*}\n",
       "\\item[mpg] 23.45\n",
       "\\item[cylinders] 5.47\n",
       "\\item[displacement] 194.41\n",
       "\\item[horsepower] 104.47\n",
       "\\item[weight] 2977.58\n",
       "\\item[acceleration] 15.54\n",
       "\\item[year] 75.98\n",
       "\\end{description*}\n"
      ],
      "text/markdown": [
       "mpg\n",
       ":   23.45cylinders\n",
       ":   5.47displacement\n",
       ":   194.41horsepower\n",
       ":   104.47weight\n",
       ":   2977.58acceleration\n",
       ":   15.54year\n",
       ":   75.98\n",
       "\n"
      ],
      "text/plain": [
       "         mpg    cylinders displacement   horsepower       weight acceleration \n",
       "       23.45         5.47       194.41       104.47      2977.58        15.54 \n",
       "        year \n",
       "       75.98 "
      ]
     },
     "metadata": {},
     "output_type": "display_data"
    },
    {
     "data": {
      "text/html": [
       "<style>\n",
       ".dl-inline {width: auto; margin:0; padding: 0}\n",
       ".dl-inline>dt, .dl-inline>dd {float: none; width: auto; display: inline-block}\n",
       ".dl-inline>dt::after {content: \":\\0020\"; padding-right: .5ex}\n",
       ".dl-inline>dt:not(:first-of-type) {padding-left: .5ex}\n",
       "</style><dl class=dl-inline><dt>mpg</dt><dd>7.81</dd><dt>cylinders</dt><dd>1.71</dd><dt>displacement</dt><dd>104.64</dd><dt>horsepower</dt><dd>38.49</dd><dt>weight</dt><dd>849.4</dd><dt>acceleration</dt><dd>2.76</dd><dt>year</dt><dd>3.68</dd></dl>\n"
      ],
      "text/latex": [
       "\\begin{description*}\n",
       "\\item[mpg] 7.81\n",
       "\\item[cylinders] 1.71\n",
       "\\item[displacement] 104.64\n",
       "\\item[horsepower] 38.49\n",
       "\\item[weight] 849.4\n",
       "\\item[acceleration] 2.76\n",
       "\\item[year] 3.68\n",
       "\\end{description*}\n"
      ],
      "text/markdown": [
       "mpg\n",
       ":   7.81cylinders\n",
       ":   1.71displacement\n",
       ":   104.64horsepower\n",
       ":   38.49weight\n",
       ":   849.4acceleration\n",
       ":   2.76year\n",
       ":   3.68\n",
       "\n"
      ],
      "text/plain": [
       "         mpg    cylinders displacement   horsepower       weight acceleration \n",
       "        7.81         1.71       104.64        38.49       849.40         2.76 \n",
       "        year \n",
       "        3.68 "
      ]
     },
     "metadata": {},
     "output_type": "display_data"
    }
   ],
   "source": [
    "# compute mean for the first seven variables and store it in a vector\n",
    "mean <- sapply(Auto[,1:7], mean)\n",
    "\n",
    "# round the values inside the vectors to 2 decimal cases\n",
    "mean <- sapply(mean,round,2)\n",
    "\n",
    "# compute the standard deviation and round it up \n",
    "sd <- sapply(Auto[, 1:7], sd)\n",
    "sd <- sapply(sd,round,2)\n",
    "\n",
    "# print both vectors\n",
    "mean\n",
    "sd"
   ]
  },
  {
   "cell_type": "markdown",
   "metadata": {},
   "source": [
    "#### 9.d) Now remove the 10th through 85th observations. What is the range, mean, and standard deviation of each predictor in the subset of the data that remains?"
   ]
  },
  {
   "cell_type": "code",
   "execution_count": 57,
   "metadata": {},
   "outputs": [
    {
     "name": "stdout",
     "output_type": "stream",
     "text": [
      "                     mpg cylinders displacement horsepower  weight acceleration\n",
      "Mean               24.40      5.37       187.24     100.72 2935.97        15.73\n",
      "Standard Deviation  7.87      1.65        99.68      35.71  811.30         2.69\n",
      "Minimum            11.00      3.00        68.00      46.00 1649.00         8.50\n",
      "Maximum            46.60      8.00       455.00     230.00 4997.00        24.80\n"
     ]
    }
   ],
   "source": [
    "# remove observations and store them \n",
    "newAuto = Auto[-(10:85),]\n",
    "\n",
    "# Re-do exercises 9. b) and 9.c)\n",
    "# This time, create a Matrix \"Results\" to store the results\n",
    "Results <- matrix( , nrow = 4, ncol = 7, dimnames = list(c(\"Mean\", \"Standard Deviation\", \"Minimum\", \"Maximum\"), c(colnames(newAuto[,1:7]))))\n",
    "\n",
    "# Store the results\n",
    "Results[1,] <- sapply(newAuto[, 1:7], mean)\n",
    "Results[2,] <- sapply(newAuto[, 1:7], sd)\n",
    "Results[3,] <- sapply(newAuto[, 1:7], min)\n",
    "Results[4,] <- sapply(newAuto[, 1:7], max)\n",
    "\n",
    "# Round them\n",
    "Results[] <- sapply(Results[],round,2)\n",
    "\n",
    "# Print the results\n",
    "# Results\n",
    "print(Results[,1:6])"
   ]
  },
  {
   "cell_type": "markdown",
   "metadata": {},
   "source": [
    "#### 9. e) Using the full data set, investigate the predictors graphically, using scatterplots or other tools of your choice. Create some plots highlighting the relationships among the predictors. Comment on your findings."
   ]
  },
  {
   "cell_type": "code",
   "execution_count": 58,
   "metadata": {},
   "outputs": [
    {
     "data": {
      "image/png": "[encoded data removed]",
      "text/plain": [
       "plot without title"
      ]
     },
     "metadata": {
      "image/png": {
       "height": 420,
       "width": 420
      }
     },
     "output_type": "display_data"
    }
   ],
   "source": [
    "pairs(Auto)"
   ]
  },
  {
   "cell_type": "markdown",
   "metadata": {},
   "source": [
    "* heavier weight is related with lower mpg and with higher horsepower;\n",
    "* higher horsepower correlates with lower acceleration;\n",
    "* mpg (miles per gallon) mostly increases for newer model years meaning that cars become more efficient over time."
   ]
  },
  {
   "cell_type": "markdown",
   "metadata": {},
   "source": [
    "#### 9. f) Suppose that we wish to predict gas mileage (mpg) on the basis of the other variables. Do your plots suggest that any of the other variables might be useful in predicting mpg? Justify your answer."
   ]
  },
  {
   "cell_type": "markdown",
   "metadata": {},
   "source": [
    "Yes. On the one hand, as we can see from the plot above, all of the quantitative variables show some sort of relation (either linear or non-linear) with mpg and hence, they might be useful in predicting mpg. The origin qualitative variable might also be useful in predicting mpg, with cars originated from region 3 being associated with higher mpg. On the other hand, the name predictor has too little observations per name though, so using this as a predictor is likely to result in overfitting the data and will not generalize well."
   ]
  }
 ],
 "metadata": {
  "kernelspec": {
   "display_name": "R",
   "language": "R",
   "name": "ir"
  },
  "language_info": {
   "codemirror_mode": "r",
   "file_extension": ".r",
   "mimetype": "text/x-r-source",
   "name": "R",
   "pygments_lexer": "r",
   "version": "3.6.1"
  }
 },
 "nbformat": 4,
 "nbformat_minor": 2
}
